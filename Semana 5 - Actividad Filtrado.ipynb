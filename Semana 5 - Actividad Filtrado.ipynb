{
 "cells": [
  {
   "cell_type": "markdown",
   "metadata": {},
   "source": [
    "## Ejercicios Filtrado\n"
   ]
  },
  {
   "cell_type": "code",
   "execution_count": null,
   "metadata": {},
   "outputs": [],
   "source": [
    "import numpy as np\n",
    "\n",
    "listaFrutas = ['naranja', 'manzana', 'pera', 'zanahoria', 'guayaba', 'durazno', 'piña', 'mandarina', 'melón', 'guanábana']\n",
    "listaNumeros = np.random.randint(0,100,10)"
   ]
  },
  {
   "cell_type": "code",
   "execution_count": 10,
   "metadata": {},
   "outputs": [
    {
     "name": "stdout",
     "output_type": "stream",
     "text": [
      "['n', 'm', 'p', 'z', 'g', 'd', 'p', 'm', 'm', 'g']\n",
      "\n",
      "['n', 'm', 'p', 'z', 'g', 'd', 'p', 'm', 'm', 'g']\n"
     ]
    }
   ],
   "source": [
    "#Hagan un código que regrese la primera letra de cada palabra en una lista. (Output es una lista de las primeras letras).\n",
    "print(list(map(lambda x: x[0], listaFrutas)))\n",
    "print()\n",
    "#Comprensión de lista\n",
    "print([fruit[0] for fruit in listaFrutas])"
   ]
  },
  {
   "cell_type": "code",
   "execution_count": 11,
   "metadata": {},
   "outputs": [
    {
     "name": "stdout",
     "output_type": "stream",
     "text": [
      "['pera', 'piña', 'melón']\n",
      "\n",
      "['pera', 'piña', 'melón']\n"
     ]
    }
   ],
   "source": [
    "#Hagan un código que regrese solamente las palábras con 5 letras o menos de una lista.\n",
    "print(list(filter(lambda x: len(x)<=5,listaFrutas)))\n",
    "print()\n",
    "#Comprensión de lista\n",
    "print([fruit for fruit in listaFrutas if len(fruit)<=5])"
   ]
  },
  {
   "cell_type": "code",
   "execution_count": 12,
   "metadata": {},
   "outputs": [
    {
     "name": "stdout",
     "output_type": "stream",
     "text": [
      "Lista en pesos: [81 88 28 61 87 82 33 38 55 42]\n",
      "Lista en dólares: [4.05, 4.4, 1.4, 3.05, 4.35, 4.1, 1.65, 1.9, 2.75, 2.1]\n",
      "\n",
      "Lista en dólares: [4.05, 4.4, 1.4, 3.05, 4.35, 4.1, 1.65, 1.9, 2.75, 2.1]\n"
     ]
    }
   ],
   "source": [
    "#Hagan un código que reciba una lista de precios en pesos y los convierta en dólares (Asumir que 20 pesos = 1 dólar).\n",
    "print(\"Lista en pesos:\", listaNumeros)\n",
    "print(\"Lista en dólares:\", list(map(lambda x: x/20, listaNumeros)))\n",
    "print()\n",
    "#Comprensión de lista\n",
    "print(\"Lista en dólares:\", [pesos/20 for pesos in listaNumeros])"
   ]
  },
  {
   "cell_type": "code",
   "execution_count": null,
   "metadata": {},
   "outputs": [],
   "source": []
  }
 ],
 "metadata": {
  "kernelspec": {
   "display_name": "Python 3",
   "language": "python",
   "name": "python3"
  },
  "language_info": {
   "codemirror_mode": {
    "name": "ipython",
    "version": 3
   },
   "file_extension": ".py",
   "mimetype": "text/x-python",
   "name": "python",
   "nbconvert_exporter": "python",
   "pygments_lexer": "ipython3",
   "version": "3.7.6"
  }
 },
 "nbformat": 4,
 "nbformat_minor": 4
}
