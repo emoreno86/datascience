{
 "cells": [
  {
   "cell_type": "markdown",
   "metadata": {},
   "source": [
    "## Ejercicios Sesión 3"
   ]
  },
  {
   "cell_type": "markdown",
   "metadata": {},
   "source": [
    "1. Escribe un script que tome un número ingresado por el usuario e imprima si es positivo, negativo o cero.\n",
    "\n",
    " Debe imprimirse de la siguiente forma \"El número ingresado es (positivo / negativo / cero)\"."
   ]
  },
  {
   "cell_type": "code",
   "execution_count": 32,
   "metadata": {},
   "outputs": [
    {
     "name": "stdin",
     "output_type": "stream",
     "text": [
      " 8\n"
     ]
    },
    {
     "name": "stdout",
     "output_type": "stream",
     "text": [
      "Positivo\n"
     ]
    }
   ],
   "source": [
    "entrada = input()\n",
    "try:\n",
    "    numero = int(entrada)\n",
    "    if numero < 0 : print(\"Negativo\")\n",
    "    elif numero == 0 : print(\"Cero\")\n",
    "    else : print (\"Positivo\")\n",
    "except ValueError:\n",
    "    print (\"El valor ingresado no es numérico\")\n"
   ]
  },
  {
   "cell_type": "markdown",
   "metadata": {},
   "source": [
    "2. Escribe una secuencia de comandos que tome dos números ingresados por el usuario e imprima \"El primer número es mayor\" o \"El segundo número es mayor\" dependiendo de cuál sea mayor. (** Sugerencia **: necesitará usar `input ()` dos veces.)"
   ]
  },
  {
   "cell_type": "code",
   "execution_count": 35,
   "metadata": {},
   "outputs": [
    {
     "name": "stdin",
     "output_type": "stream",
     "text": [
      " 3\n",
      " 1\n"
     ]
    },
    {
     "name": "stdout",
     "output_type": "stream",
     "text": [
      "El primer número es mayor\n"
     ]
    }
   ],
   "source": [
    "valor1 = input()\n",
    "valor2 = input()\n",
    "try:\n",
    "    numero1 = int(valor1)\n",
    "    numero2 = int(valor2)\n",
    "    if numero1 < numero2 : print(\"El segundo número es mayor\")\n",
    "    elif numero1 > numero2 : print(\"El primer número es mayor\")\n",
    "    else : print (\"Los números son iguales\")\n",
    "except ValueError:\n",
    "    print (\"Uno de los valores ingresados no es numérico\")"
   ]
  },
  {
   "cell_type": "markdown",
   "metadata": {},
   "source": [
    "# 3. Escriba un script que calcule la suma de 0 a un número ingresado por el usuario. Sin embargo, esta vez, comience con el número ingresado por el usuario y continúe hacia abajo. Esta respuesta se parecerá mucho al ejemplo anterior, solo tendrá que cambiar un par de cosas."
   ]
  },
  {
   "cell_type": "code",
   "execution_count": 36,
   "metadata": {},
   "outputs": [
    {
     "name": "stdin",
     "output_type": "stream",
     "text": [
      " 6\n"
     ]
    },
    {
     "name": "stdout",
     "output_type": "stream",
     "text": [
      "La suma de 0 a 6 es 21\n"
     ]
    }
   ],
   "source": [
    "entrada = input()\n",
    "try:\n",
    "    numeroInicial = int(entrada)\n",
    "    numero = numeroInicial\n",
    "    total = numero\n",
    "    numero -=1\n",
    "    while numero > 0 :\n",
    "        total = numero + total\n",
    "        numero -=1\n",
    "    else : print(\"La suma de 0 a\", numeroInicial, \"es\", total)\n",
    "except ValueError:\n",
    "    print (\"El valor ingresado no es numérico\")"
   ]
  },
  {
   "cell_type": "markdown",
   "metadata": {},
   "source": [
    "4. Escriba un script que calcule el factorial de un número ingresado por el usuario. Si no sabe qué es un factorial o necesita una revisión, consulte el enlace (https://en.wikipedia.org/wiki/Factorial). Una vez más, su solución se parecerá mucho al código anterior. Cosas que debes pensar:\n",
    "    * ¿Cuál es el proceso de calcular un factorial si fuera a calcularlo a mano?\n",
    "    * ¿Cuál es el punto de partida común cuando se trata de calcular el factorial de cualquier número? <br> <br>"
   ]
  },
  {
   "cell_type": "code",
   "execution_count": 39,
   "metadata": {},
   "outputs": [
    {
     "name": "stdin",
     "output_type": "stream",
     "text": [
      " 3\n"
     ]
    },
    {
     "name": "stdout",
     "output_type": "stream",
     "text": [
      "El factorial de 3 es 6\n"
     ]
    }
   ],
   "source": [
    "entrada = input()\n",
    "try:\n",
    "    numeroInicial = int(entrada)\n",
    "    numero = numeroInicial\n",
    "    total = numero\n",
    "    numero -=1\n",
    "    while numero > 0 :\n",
    "        total = numero * total\n",
    "        numero -=1\n",
    "    else : print(\"El factorial de\", numeroInicial, \"es\", total)\n",
    "except ValueError:\n",
    "    print (\"El valor ingresado no es numérico\")\n"
   ]
  },
  {
   "cell_type": "markdown",
   "metadata": {},
   "source": [
    "5. Escriba un script que calcule e imprima todos los divisores de un número ingresado por el usuario. Si no sabe qué es un divisor o necesita una revisión, consulte el enlace(https://en.wikipedia.org/wiki/Divisor). Cosas para pensar:\n",
    "    * ¿Cómo se determina si un solo número es un divisor de otro?\n",
    "    * ¿Cómo haces esto varias veces (** Sugerencia **: implica un ciclo while)?\n",
    "    * ¿Cuándo detiene el ciclo? <br> <br>"
   ]
  },
  {
   "cell_type": "code",
   "execution_count": 40,
   "metadata": {},
   "outputs": [
    {
     "name": "stdin",
     "output_type": "stream",
     "text": [
      " 60\n"
     ]
    },
    {
     "name": "stdout",
     "output_type": "stream",
     "text": [
      "los divisores de  60 son [1, 2, 3, 4, 5, 6, 10, 12, 15, 20, 30, 60]\n"
     ]
    }
   ],
   "source": [
    "entrada = input()\n",
    "try:\n",
    "    numeroInicial = int(entrada)\n",
    "    numero = numeroInicial\n",
    "    lista = [numero]\n",
    "    numero -=1\n",
    "    while numero > 0 :\n",
    "        if numeroInicial % numero == 0 : lista.append(numero)\n",
    "        numero -=1\n",
    "        lista.sort()\n",
    "    else : print(\"los divisores de \", numeroInicial, \"son\", lista)\n",
    "except ValueError:\n",
    "    print (\"El valor ingresado no es numérico\")"
   ]
  },
  {
   "cell_type": "markdown",
   "metadata": {},
   "source": [
    "6. Escriba un script que calcule el máximo divisor común entre dos números ingresados por el usuario. Si no sabe cuál es el mayor divisor común, consulte el enlace (https://en.wikipedia.org/wiki/Greatest_common_divisor). Cosas para pensar:\n",
    "    * ¿Cómo se obtienen dos números del usuario?\n",
    "    * ¿Dónde debe comenzar su búsqueda del GCD?\n",
    "    * ¿Dónde / cómo debe finalizar su búsqueda? <br> <br>"
   ]
  },
  {
   "cell_type": "code",
   "execution_count": 42,
   "metadata": {},
   "outputs": [
    {
     "name": "stdin",
     "output_type": "stream",
     "text": [
      " 18\n",
      " 15\n"
     ]
    },
    {
     "name": "stdout",
     "output_type": "stream",
     "text": [
      "El máximo común divisor de 18 y 15 es 3\n"
     ]
    }
   ],
   "source": [
    "entrada1 = input()\n",
    "entrada2 = input()\n",
    "try:\n",
    "    numeroInicial1 = int(entrada1)\n",
    "    numero1 = numeroInicial1\n",
    "    lista1 = [numero1]\n",
    "    numero1 -=1\n",
    "    while numero1 > 0 :\n",
    "        if numeroInicial1 % numero1 == 0 : lista1.append(numero1)\n",
    "        numero1 -=1\n",
    "    lista1.sort(reverse = True)\n",
    "    \n",
    "    numeroInicial2 = int(entrada2)\n",
    "    numero2 = numeroInicial2\n",
    "    while numero2 > 0 :\n",
    "        if numeroInicial2 % numero2 == 0 : \n",
    "            if numero2 in lista1 : break\n",
    "        numero2 -=1\n",
    "    print(\"El máximo común divisor de\", numeroInicial1, \"y\", numeroInicial2, \"es\", numero2)\n",
    "\n",
    "except ValueError:\n",
    "    print (\"El valor ingresado no es numérico\")"
   ]
  },
  {
   "cell_type": "markdown",
   "metadata": {},
   "source": [
    "7. Escribe un script que calcule el mínimo común múltiplo entre dos números ingresados por el usuario. Si no sabes cuál es el mínimo común múltiplo o deseas una revisión, puedes consultar (https://en.wikipedia.org/wiki/Least_common_multiple). Cosas para pensar:\n",
    "    * ¿Cómo se obtienen dos números del usuario?\n",
    "    * ¿Dónde debe comenzar su búsqueda del LCM?\n",
    "    * ¿Dónde / cómo debe finalizar su búsqueda? <br> <br>"
   ]
  },
  {
   "cell_type": "code",
   "execution_count": 7,
   "metadata": {},
   "outputs": [
    {
     "name": "stdin",
     "output_type": "stream",
     "text": [
      " 3\n",
      " 7\n"
     ]
    },
    {
     "name": "stdout",
     "output_type": "stream",
     "text": [
      "El mínimo común múltiplo de 3 y 7 es 21\n"
     ]
    }
   ],
   "source": [
    "entrada1 = input()\n",
    "entrada2 = input()\n",
    "try:\n",
    "    numeroInicial1 = int(entrada1)\n",
    "    numeroInicial2 = int(entrada2)\n",
    "    if numeroInicial1 > numeroInicial2:  \n",
    "        mayor = numeroInicial1  \n",
    "    else:  \n",
    "        mayor = numeroInicial2  \n",
    "    while(mayor > 0):\n",
    "        if ((mayor % numeroInicial1 == 0) and (mayor % numeroInicial2 == 0)) :  \n",
    "            mcm = mayor  \n",
    "            break  \n",
    "        mayor += 1\n",
    "    print(\"El mínimo común múltiplo de\", numeroInicial1, \"y\", numeroInicial2, \"es\", mcm)\n",
    "\n",
    "except ValueError:\n",
    "    print (\"El valor ingresado no es numérico\")"
   ]
  },
  {
   "cell_type": "markdown",
   "metadata": {},
   "source": [
    "8. Escribe una secuencia de comandos que determine si un número ingresado por el usuario es un número primo e imprime `` El número que ingresó es (no es) un número primo '', según lo que encuentre su secuencia de comandos. Si no sabes qué es un número primo o necesita una revisión, consulte el enlace (https://en.wikipedia.org/wiki/Prime_number). Cosas para pensar:\n",
    "    * ¿Cómo verifica si un número es divisible por otro número?\n",
    "    * ¿Qué números son divisibles por un número primo?\n",
    "    * ¿Cómo verifica todos los números por los que un número puede ser divisible (** Sugerencia **: use un bucle)?\n",
    "    * ¿Cuándo detiene el ciclo? <br> <br>"
   ]
  },
  {
   "cell_type": "code",
   "execution_count": 14,
   "metadata": {},
   "outputs": [
    {
     "name": "stdin",
     "output_type": "stream",
     "text": [
      " 11\n"
     ]
    },
    {
     "name": "stdout",
     "output_type": "stream",
     "text": [
      "El número que ingresó ( 11 ) SI es un número primo\n"
     ]
    }
   ],
   "source": [
    "entrada1 = input()\n",
    "\n",
    "try:\n",
    "    numeroInicial1 = int(entrada1)\n",
    "    if(numeroInicial1 < 2) : print(\"El número que ingresó (\", numeroInicial1, \")\", \"NO es un número primo\")\n",
    "    else :\n",
    "        divisor = 2\n",
    "        texto = \"SI es\"\n",
    "        while(divisor < numeroInicial1):  \n",
    "            texto = \"SI es\"\n",
    "            if numeroInicial1 % divisor == 0 : \n",
    "                texto = \"NO es\"\n",
    "                break  \n",
    "            divisor += 1    \n",
    "        print(\"El número que ingresó (\", numeroInicial1, \")\", texto, \"un número primo\")\n",
    "\n",
    "except ValueError:\n",
    "    print (\"El valor ingresado no es numérico\")"
   ]
  },
  {
   "cell_type": "code",
   "execution_count": null,
   "metadata": {},
   "outputs": [],
   "source": []
  }
 ],
 "metadata": {
  "kernelspec": {
   "display_name": "Python 3",
   "language": "python",
   "name": "python3"
  },
  "language_info": {
   "codemirror_mode": {
    "name": "ipython",
    "version": 3
   },
   "file_extension": ".py",
   "mimetype": "text/x-python",
   "name": "python",
   "nbconvert_exporter": "python",
   "pygments_lexer": "ipython3",
   "version": "3.7.4"
  }
 },
 "nbformat": 4,
 "nbformat_minor": 4
}
