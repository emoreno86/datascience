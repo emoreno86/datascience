{
 "cells": [
  {
   "cell_type": "markdown",
   "metadata": {},
   "source": [
    "# Ejercicios de la primera semana\n",
    "\n",
    "A continuación se muestran algunos ejercicios sobre los temas de la semana: \n",
    "\n",
    "\n",
    "#### 1. Calcula el número $\\pi$ usando la fórmula\n",
    "\n",
    "$$\\pi=2\\prod_{i=1}^{\\infty}\\frac{4 i^2 }{4i^2-1 }$$\n",
    "\n",
    "\n",
    "\n"
   ]
  },
  {
   "cell_type": "code",
   "execution_count": 20,
   "metadata": {},
   "outputs": [
    {
     "name": "stdout",
     "output_type": "stream",
     "text": [
      "3.1415141108281714\n"
     ]
    }
   ],
   "source": [
    "i = 1\n",
    "pi=1\n",
    "for i in range(1, 10000):\n",
    "    pi *= ((4*(i**2))/((4*(i**2))-1))\n",
    "print(pi*2)"
   ]
  },
  {
   "cell_type": "markdown",
   "metadata": {},
   "source": [
    "#### 2. Calcula las primeras 10 potencias de 2 ($2^n$). Guarda los valores para cada uno de los exponentes y regresa la suma como valor.\n"
   ]
  },
  {
   "cell_type": "code",
   "execution_count": 46,
   "metadata": {},
   "outputs": [
    {
     "name": "stdout",
     "output_type": "stream",
     "text": [
      "El resultado es 1023\n"
     ]
    }
   ],
   "source": [
    "total = 0\n",
    "for n in range(10):\n",
    "    total += 2**n\n",
    "print(\"El resultado es\", total)\n"
   ]
  },
  {
   "cell_type": "markdown",
   "metadata": {},
   "source": [
    "#### 3. Obtener los primeros 10 numeros pares "
   ]
  },
  {
   "cell_type": "code",
   "execution_count": 48,
   "metadata": {},
   "outputs": [
    {
     "name": "stdout",
     "output_type": "stream",
     "text": [
      "[2, 4, 6, 8, 10, 12, 14, 16, 18, 20]\n"
     ]
    }
   ],
   "source": [
    "par = 2\n",
    "lista = []\n",
    "for n in range(10):\n",
    "    lista.append(par)\n",
    "    par+=2\n",
    "print(lista)"
   ]
  },
  {
   "cell_type": "markdown",
   "metadata": {},
   "source": [
    "\n",
    "#### 4. Escriba una función que nos permita calcular la suma de los cuadrados de dos números\n"
   ]
  },
  {
   "cell_type": "code",
   "execution_count": 45,
   "metadata": {},
   "outputs": [
    {
     "name": "stdin",
     "output_type": "stream",
     "text": [
      " 4\n",
      " 2\n"
     ]
    },
    {
     "name": "stdout",
     "output_type": "stream",
     "text": [
      "20\n"
     ]
    }
   ],
   "source": [
    "entrada1 = input()\n",
    "entrada2 = input()\n",
    "try:\n",
    "    numeroInicial1 = int(entrada1)\n",
    "    numeroInicial2 = int(entrada2)\n",
    "    print(numeroInicial1**2 + numeroInicial2**2)\n",
    "\n",
    "except ValueError:\n",
    "    print (\"El valor ingresado no es numérico\")"
   ]
  },
  {
   "cell_type": "markdown",
   "metadata": {},
   "source": [
    "#### 5. Escriba una función que calcule, guarde en una lista y muestre los elementos de la secuencia de Fibonacci"
   ]
  },
  {
   "cell_type": "code",
   "execution_count": 25,
   "metadata": {},
   "outputs": [
    {
     "name": "stdin",
     "output_type": "stream",
     "text": [
      " 10\n"
     ]
    },
    {
     "name": "stdout",
     "output_type": "stream",
     "text": [
      "[0, 1, 1, 2, 3, 5, 8, 13, 21, 34, 55]\n"
     ]
    }
   ],
   "source": [
    "def fibonacci(n):\n",
    "    if n == 0:\n",
    "        return [0]\n",
    "    elif n == 1:\n",
    "        return [0, 1]\n",
    "    else:\n",
    "        lista = fibonacci(n-1)\n",
    "        lista.append(lista[-1] + lista[-2])\n",
    "        return lista\n",
    "try:\n",
    "    entrada = input()\n",
    "    print(fibonacci(int(entrada)))\n",
    "    \n",
    "except ValueError:\n",
    "    print (\"El valor ingresado no es numérico\")   \n"
   ]
  },
  {
   "cell_type": "markdown",
   "metadata": {},
   "source": [
    "#### 6. Crear una función que reciba un parámetro númerico e imprima el nombre de una fruta:  *Naranjas* si el parámetro es igual a 0, *Manzanas* si el parámetro es igual a 1 y *Peras* si el paráemtro es igual a 2 "
   ]
  },
  {
   "cell_type": "code",
   "execution_count": 30,
   "metadata": {},
   "outputs": [
    {
     "name": "stdin",
     "output_type": "stream",
     "text": [
      " 2\n"
     ]
    },
    {
     "name": "stdout",
     "output_type": "stream",
     "text": [
      "Peras\n"
     ]
    }
   ],
   "source": [
    "try:\n",
    "    entrada = input()\n",
    "    valor = int(entrada)\n",
    "except ValueError:\n",
    "    print (\"El valor ingresado no es numérico\")  \n",
    "\n",
    "if(valor == 0) : print(\"Naranjas\")\n",
    "elif(valor == 1) : print(\"Manzanas\")\n",
    "elif(valor == 2) : print(\"Peras\")\n",
    "else : print(\"Los número válidos son 0, 1 y 2\")"
   ]
  },
  {
   "cell_type": "markdown",
   "metadata": {},
   "source": [
    "#### 7. Crear una función la función error: imprima un mensaje que notifique al usuario si existe un error\n"
   ]
  },
  {
   "cell_type": "code",
   "execution_count": 32,
   "metadata": {},
   "outputs": [
    {
     "name": "stdout",
     "output_type": "stream",
     "text": [
      "Cometiste un error\n"
     ]
    }
   ],
   "source": [
    "def Error():\n",
    "    print(\"Cometiste un error\")\n",
    "\n",
    "Error()"
   ]
  },
  {
   "cell_type": "markdown",
   "metadata": {},
   "source": [
    "#### 8. Definamos la función matemática del valor absoluto de un número:  Si el número de entrada es negativo, devolver el valor e imprimir un mensaje semejante a \"El valor absoluto es:\". Si no, devolver el valor del número introducido e imprimir el mismo mensaje\n",
    "   "
   ]
  },
  {
   "cell_type": "code",
   "execution_count": 39,
   "metadata": {},
   "outputs": [
    {
     "name": "stdin",
     "output_type": "stream",
     "text": [
      " -5\n"
     ]
    },
    {
     "name": "stdout",
     "output_type": "stream",
     "text": [
      "El valor absoluto es 5\n"
     ]
    }
   ],
   "source": [
    "def valorAbsoluto(n):\n",
    "    if(n<0) : \n",
    "        n *= -1\n",
    "    print(\"El valor absoluto es\", n)\n",
    "\n",
    "try:\n",
    "    entrada = input()\n",
    "    valor = int(entrada)\n",
    "    valorAbsoluto(valor)\n",
    "except ValueError:\n",
    "    print (\"El valor ingresado no es numérico\")  \n"
   ]
  },
  {
   "cell_type": "code",
   "execution_count": 29,
   "metadata": {},
   "outputs": [
    {
     "data": {
      "text/plain": [
       "17"
      ]
     },
     "execution_count": 29,
     "metadata": {},
     "output_type": "execute_result"
    }
   ],
   "source": []
  },
  {
   "cell_type": "markdown",
   "metadata": {},
   "source": [
    "#### 9.Defininir una función que realice el cambio del valor de dos variables: el valor de la primera se otorga a la segunda y viceversa. \n",
    "\n",
    "\n"
   ]
  },
  {
   "cell_type": "code",
   "execution_count": 38,
   "metadata": {},
   "outputs": [
    {
     "name": "stdin",
     "output_type": "stream",
     "text": [
      " 5\n",
      " 10\n"
     ]
    },
    {
     "name": "stdout",
     "output_type": "stream",
     "text": [
      "Valores originales 5 10\n",
      "Valores invertidos 10 5\n"
     ]
    }
   ],
   "source": [
    "def cambioVariables(x, y):\n",
    "    print(\"Valores originales\", x, y)\n",
    "    temp = y\n",
    "    y = x\n",
    "    x = temp\n",
    "    print(\"Valores invertidos\", x, y)\n",
    "\n",
    "try:\n",
    "    entrada1 = input()\n",
    "    entrada2 = input()\n",
    "    valor1 = int(entrada1)\n",
    "    valor2 = int(entrada2)\n",
    "    cambioVariables(valor1, valor2)\n",
    "except ValueError:\n",
    "    print (\"El valor ingresado no es numérico\")  "
   ]
  },
  {
   "cell_type": "markdown",
   "metadata": {},
   "source": [
    "#### 10. Cree un programa que le pida al usuario que ingrese su nombre y su edad. Imprima un mensaje dirigido a ellos que les diga el año en que cumplirán 100 años."
   ]
  },
  {
   "cell_type": "code",
   "execution_count": 47,
   "metadata": {},
   "outputs": [
    {
     "name": "stdout",
     "output_type": "stream",
     "text": [
      "Favor de ingresar tu nombre\n"
     ]
    },
    {
     "name": "stdin",
     "output_type": "stream",
     "text": [
      " Eduardo\n"
     ]
    },
    {
     "name": "stdout",
     "output_type": "stream",
     "text": [
      "Favor de ingresar tu edad\n"
     ]
    },
    {
     "name": "stdin",
     "output_type": "stream",
     "text": [
      " 33\n"
     ]
    },
    {
     "name": "stdout",
     "output_type": "stream",
     "text": [
      "Eduardo tu cumpleaños número 100 será en 2086\n"
     ]
    }
   ],
   "source": [
    "print(\"Favor de ingresar tu nombre\")\n",
    "nombre = input()\n",
    "print(\"Favor de ingresar tu edad\")\n",
    "edad = input()\n",
    "\n",
    "try:\n",
    "    edadNum = int(edad)\n",
    "except ValueError:\n",
    "    print (\"El valor ingresado no es numérico\") \n",
    "    \n",
    "año = 100 - edadNum + 2019\n",
    "print(nombre, \"tu cumpleaños número 100 será en\", año)"
   ]
  },
  {
   "cell_type": "markdown",
   "metadata": {},
   "source": [
    "#### 11. Pregunte al usuario por un número. Dependiendo de si el número es par o impar, imprima un mensaje apropiado para el usuario.\n",
    "\n"
   ]
  },
  {
   "cell_type": "code",
   "execution_count": 52,
   "metadata": {},
   "outputs": [
    {
     "name": "stdin",
     "output_type": "stream",
     "text": [
      " 10\n"
     ]
    },
    {
     "name": "stdout",
     "output_type": "stream",
     "text": [
      "El número es par\n"
     ]
    }
   ],
   "source": [
    "num = input()\n",
    "\n",
    "try:\n",
    "    numero = int(num)\n",
    "except ValueError:\n",
    "    print (\"El valor ingresado no es numérico\") \n",
    "    \n",
    "if(numero%2 == 0) : print(\"El número es par\")\n",
    "else : print(\"El número es impar\")"
   ]
  },
  {
   "cell_type": "markdown",
   "metadata": {},
   "source": [
    "#### 12. Escriba una función que reciba una lista  como parámetro y devuelva una nueva lista que contenga todos los elementos de la primera lista menos todos los duplicados.\n"
   ]
  },
  {
   "cell_type": "code",
   "execution_count": 55,
   "metadata": {},
   "outputs": [
    {
     "name": "stdout",
     "output_type": "stream",
     "text": [
      "[0, 1, 2, 'gato', 'perro', 'liebre']\n"
     ]
    }
   ],
   "source": [
    "def quitarDupl(lista):\n",
    "    setNuevo = set(lista)\n",
    "    return(list(setNuevo))\n",
    "\n",
    "print(quitarDupl([0,0,1,1,2,2,\"perro\",\"gato\",\"liebre\",\"perro\",\"liebre\",\"gato\"]))"
   ]
  },
  {
   "cell_type": "markdown",
   "metadata": {},
   "source": [
    "#### 13. Haz un juego de dos jugadores de piedra, papel y tijeras, Dada una función de dos entradas, compáralas, imprime un mensaje de felicitaciones al ganador."
   ]
  },
  {
   "cell_type": "code",
   "execution_count": 61,
   "metadata": {},
   "outputs": [
    {
     "name": "stdout",
     "output_type": "stream",
     "text": [
      "Jugador 1 : Favor de elegir (piedra, papel o tijera)\n"
     ]
    },
    {
     "name": "stdin",
     "output_type": "stream",
     "text": [
      " piedra\n"
     ]
    },
    {
     "name": "stdout",
     "output_type": "stream",
     "text": [
      "Jugador 2 : Favor de elegir (piedra, papel o tijera)\n"
     ]
    },
    {
     "name": "stdin",
     "output_type": "stream",
     "text": [
      " tijera\n"
     ]
    },
    {
     "name": "stdout",
     "output_type": "stream",
     "text": [
      "Ganó el Jugador 1\n"
     ]
    }
   ],
   "source": [
    "print(\"Jugador 1 : Favor de elegir (piedra, papel o tijera)\")\n",
    "entrada1 = input().lower()\n",
    "print(\"Jugador 2 : Favor de elegir (piedra, papel o tijera)\")\n",
    "entrada2 = input().lower()\n",
    "\n",
    "if(entrada1 == entrada2): print(\"Empataron\")\n",
    "elif(entrada1 == \"piedra\"):\n",
    "    if(entrada2 == \"papel\"): print(\"Ganó el Jugador 2\")\n",
    "    if(entrada2 == \"tijera\"): print(\"Ganó el Jugador 1\")\n",
    "elif(entrada1 == \"papel\"):\n",
    "    if(entrada2 == \"piedra\"): print(\"Ganó el Jugador 1\")\n",
    "    if(entrada2 == \"tijera\"): print(\"Ganó el Jugador 2\")\n",
    "elif(entrada1 == \"tijera\"):\n",
    "    if(entrada2 == \"papel\"): print(\"Ganó el Jugador 1\")\n",
    "    if(entrada2 == \"piedra\"): print(\"Ganó el Jugador 2\")"
   ]
  },
  {
   "cell_type": "markdown",
   "metadata": {},
   "source": [
    "\n",
    "#### 14. Similar al ejercicio pasado, haz un juego de piedra papel y tijeras en una función que: pregunte a los usuarios sobre sus opciones, haga las comparaciones, entregue el resultado. Finalmente pregunte si quieren seguir jugnado y si sí, comience el juego de nuevo. "
   ]
  },
  {
   "cell_type": "code",
   "execution_count": 67,
   "metadata": {},
   "outputs": [
    {
     "name": "stdout",
     "output_type": "stream",
     "text": [
      "Jugador 1 : Favor de elegir (piedra, papel o tijera)\n"
     ]
    },
    {
     "name": "stdin",
     "output_type": "stream",
     "text": [
      " piedra\n"
     ]
    },
    {
     "name": "stdout",
     "output_type": "stream",
     "text": [
      "Jugador 2 : Favor de elegir (piedra, papel o tijera)\n"
     ]
    },
    {
     "name": "stdin",
     "output_type": "stream",
     "text": [
      " papel\n"
     ]
    },
    {
     "name": "stdout",
     "output_type": "stream",
     "text": [
      "Ganó el Jugador 2\n",
      "Desean seguir jugando? (si/no)\n"
     ]
    },
    {
     "name": "stdin",
     "output_type": "stream",
     "text": [
      " si\n"
     ]
    },
    {
     "name": "stdout",
     "output_type": "stream",
     "text": [
      "Jugador 1 : Favor de elegir (piedra, papel o tijera)\n"
     ]
    },
    {
     "name": "stdin",
     "output_type": "stream",
     "text": [
      " papel\n"
     ]
    },
    {
     "name": "stdout",
     "output_type": "stream",
     "text": [
      "Jugador 2 : Favor de elegir (piedra, papel o tijera)\n"
     ]
    },
    {
     "name": "stdin",
     "output_type": "stream",
     "text": [
      " tijera\n"
     ]
    },
    {
     "name": "stdout",
     "output_type": "stream",
     "text": [
      "Ganó el Jugador 2\n",
      "Desean seguir jugando? (si/no)\n"
     ]
    },
    {
     "name": "stdin",
     "output_type": "stream",
     "text": [
      " si\n"
     ]
    },
    {
     "name": "stdout",
     "output_type": "stream",
     "text": [
      "Jugador 1 : Favor de elegir (piedra, papel o tijera)\n"
     ]
    },
    {
     "name": "stdin",
     "output_type": "stream",
     "text": [
      " a\n"
     ]
    },
    {
     "name": "stdout",
     "output_type": "stream",
     "text": [
      "Jugador 2 : Favor de elegir (piedra, papel o tijera)\n"
     ]
    },
    {
     "name": "stdin",
     "output_type": "stream",
     "text": [
      " a\n"
     ]
    },
    {
     "name": "stdout",
     "output_type": "stream",
     "text": [
      "Empataron\n",
      "Desean seguir jugando? (si/no)\n"
     ]
    },
    {
     "name": "stdin",
     "output_type": "stream",
     "text": [
      " no\n"
     ]
    }
   ],
   "source": [
    "def jugar():\n",
    "    print(\"Jugador 1 : Favor de elegir (piedra, papel o tijera)\")\n",
    "    entrada1 = input().lower()\n",
    "    print(\"Jugador 2 : Favor de elegir (piedra, papel o tijera)\")\n",
    "    entrada2 = input().lower()\n",
    "\n",
    "    if(entrada1 == entrada2): print(\"Empataron\")\n",
    "    elif(entrada1 == \"piedra\"):\n",
    "        if(entrada2 == \"papel\"): print(\"Ganó el Jugador 2\")\n",
    "        if(entrada2 == \"tijera\"): print(\"Ganó el Jugador 1\")\n",
    "    elif(entrada1 == \"papel\"):\n",
    "        if(entrada2 == \"piedra\"): print(\"Ganó el Jugador 1\")\n",
    "        if(entrada2 == \"tijera\"): print(\"Ganó el Jugador 2\")\n",
    "    elif(entrada1 == \"tijera\"):\n",
    "        if(entrada2 == \"papel\"): print(\"Ganó el Jugador 1\")\n",
    "        if(entrada2 == \"piedra\"): print(\"Ganó el Jugador 2\")\n",
    "    print(\"Desean seguir jugando? (si/no)\")\n",
    "    retry = input()\n",
    "    if(retry.lower() == \"si\") : \n",
    "        jugar()\n",
    "\n",
    "jugar()\n"
   ]
  },
  {
   "cell_type": "markdown",
   "metadata": {},
   "source": [
    "#### 15. Dada una oración, realice las operaciones necesarias para invertir el orden de las palabras "
   ]
  },
  {
   "cell_type": "code",
   "execution_count": 78,
   "metadata": {},
   "outputs": [
    {
     "name": "stdin",
     "output_type": "stream",
     "text": [
      " a b c\n"
     ]
    },
    {
     "name": "stdout",
     "output_type": "stream",
     "text": [
      " c b a\n"
     ]
    }
   ],
   "source": [
    "oracion = input()\n",
    "lista = oracion.split()\n",
    "lista.reverse()\n",
    "oracionInvertida = ''\n",
    "oracionInvertida.join(lista)\n",
    "\n",
    "print(''.join((' ' + str(e)) for e in lista))\n"
   ]
  },
  {
   "cell_type": "markdown",
   "metadata": {},
   "source": [
    "#### 16. Crea un generador de contraseñas, donde la longitud sea un parámetro de entrada para el usuario. Usa letras mayúsculas, minúsculas y números. "
   ]
  },
  {
   "cell_type": "code",
   "execution_count": 88,
   "metadata": {},
   "outputs": [
    {
     "name": "stdout",
     "output_type": "stream",
     "text": [
      "Favor de ingresar la longitud de la contraseña a generar\n"
     ]
    },
    {
     "name": "stdin",
     "output_type": "stream",
     "text": [
      " 2\n"
     ]
    },
    {
     "name": "stdout",
     "output_type": "stream",
     "text": [
      "WU\n"
     ]
    }
   ],
   "source": [
    "import string\n",
    "import random\n",
    "\n",
    "print(\"Favor de ingresar la longitud de la contraseña a generar\")\n",
    "longitud = input()\n",
    "\n",
    "try:\n",
    "    longNum = int(longitud)\n",
    "except ValueError:\n",
    "    print (\"El valor ingresado no es numérico\") \n",
    "\n",
    "pool = string.ascii_letters + \"0123456789\"\n",
    "contraseña = \"\"\n",
    "for i in range(longNum):\n",
    "    contraseña += random.choice(pool)\n",
    "\n",
    "print(contraseña)"
   ]
  },
  {
   "cell_type": "markdown",
   "metadata": {},
   "source": [
    "#### 17. Cree un archivo de texto (extensión .txt) con letras aleatorias (incluyendo espacios) con una extensión de 500 caracteres. "
   ]
  },
  {
   "cell_type": "code",
   "execution_count": 90,
   "metadata": {},
   "outputs": [],
   "source": [
    "import string\n",
    "import random\n",
    "\n",
    "pool = string.ascii_letters + \"0123456789 \"\n",
    "texto = \"\"\n",
    "for i in range(500):\n",
    "    texto += random.choice(pool)\n",
    "f = open(\"extension.txt\",\"w+\")\n",
    "f.write(texto)\n",
    "f.close()"
   ]
  },
  {
   "cell_type": "markdown",
   "metadata": {},
   "source": [
    "#### 18. Lee el archivo pasado e invierte todo el texto (hola -> aloh) y guardalo con un nombre diferente. "
   ]
  },
  {
   "cell_type": "code",
   "execution_count": 94,
   "metadata": {},
   "outputs": [],
   "source": [
    "f = open(\"extension.txt\", \"r\")\n",
    "texto = f.read()\n",
    "textoInvertido = texto[::-1]\n",
    "\n",
    "f2 = open(\"extensionInvertido.txt\",\"w+\")\n",
    "f2.write(textoInvertido)\n",
    "f2.close()"
   ]
  },
  {
   "cell_type": "markdown",
   "metadata": {},
   "source": [
    "#### 19. Compara dos listas (pueden ser de diferentes tamaños. Construye dos listas: una con los elementos en común y otra con el resto de los elementos. \n"
   ]
  },
  {
   "cell_type": "code",
   "execution_count": 104,
   "metadata": {},
   "outputs": [
    {
     "name": "stdout",
     "output_type": "stream",
     "text": [
      "Los elementos comunes son ['b', 2, 3]\n",
      "Los elementos distintos son ['a', 'c', 1, 'd', 'f', 5]\n"
     ]
    }
   ],
   "source": [
    "lista1 = [\"a\", \"b\", \"c\", 1, 2, 3]\n",
    "lista2 = [\"b\", 2, 3, \"d\", \"f\", 5]\n",
    "\n",
    "comunes = []\n",
    "distintos = []\n",
    "for i in lista1:\n",
    "    if(i in lista2) : comunes.append(i)\n",
    "    else : distintos.append(i)\n",
    "for x in lista2:\n",
    "    if(x not in lista1) : distintos.append(x)\n",
    "\n",
    "print(\"Los elementos comunes son\", comunes)\n",
    "print(\"Los elementos distintos son\", distintos)"
   ]
  },
  {
   "cell_type": "code",
   "execution_count": null,
   "metadata": {},
   "outputs": [],
   "source": []
  }
 ],
 "metadata": {
  "kernelspec": {
   "display_name": "Python 3",
   "language": "python",
   "name": "python3"
  },
  "language_info": {
   "codemirror_mode": {
    "name": "ipython",
    "version": 3
   },
   "file_extension": ".py",
   "mimetype": "text/x-python",
   "name": "python",
   "nbconvert_exporter": "python",
   "pygments_lexer": "ipython3",
   "version": "3.7.4"
  }
 },
 "nbformat": 4,
 "nbformat_minor": 4
}
