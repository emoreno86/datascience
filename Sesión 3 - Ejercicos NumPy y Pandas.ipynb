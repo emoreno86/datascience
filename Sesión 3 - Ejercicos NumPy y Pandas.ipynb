{
 "cells": [
  {
   "cell_type": "markdown",
   "metadata": {
    "colab_type": "text",
    "id": "ykDBllTHJQsX"
   },
   "source": [
    "## *Sesión de retos*\n",
    "\n",
    "### Objetivo de la Sesión 3:\n",
    "\n",
    "* Repasar NumPy resolviendo algunos ejercicios.\n",
    "* Repasar Pandas resolviendo algunos ejercicios.\n",
    "\n",
    "### *“Trabajar en equipo, divide el trabajo y multiplica los resultados”*, Anónimo."
   ]
  },
  {
   "cell_type": "code",
   "execution_count": null,
   "metadata": {
    "colab": {},
    "colab_type": "code",
    "id": "l_LRDau8DwZq"
   },
   "outputs": [],
   "source": [
    "import numpy as np\n",
    "import pandas as pd"
   ]
  },
  {
   "cell_type": "markdown",
   "metadata": {
    "colab_type": "text",
    "id": "Pbp6nOk8TpYL"
   },
   "source": [
    "# 1. NumPy"
   ]
  },
  {
   "cell_type": "markdown",
   "metadata": {
    "colab_type": "text",
    "id": "QVMnYtMkfO5o"
   },
   "source": [
    "1. Muestra la versión de NumPy utilizada"
   ]
  },
  {
   "cell_type": "code",
   "execution_count": 2,
   "metadata": {
    "colab": {},
    "colab_type": "code",
    "id": "0NGnTNNBfWKA"
   },
   "outputs": [
    {
     "data": {
      "text/plain": [
       "'1.18.1'"
      ]
     },
     "execution_count": 2,
     "metadata": {},
     "output_type": "execute_result"
    }
   ],
   "source": [
    "np.version.version"
   ]
  },
  {
   "cell_type": "markdown",
   "metadata": {
    "colab_type": "text",
    "id": "ufPFrLm8fXEl"
   },
   "source": [
    "2. Crear un arreglo 1D con enteros positivos aleatorios"
   ]
  },
  {
   "cell_type": "code",
   "execution_count": 3,
   "metadata": {
    "colab": {},
    "colab_type": "code",
    "id": "tuCrDoXwe-a3"
   },
   "outputs": [
    {
     "name": "stdout",
     "output_type": "stream",
     "text": [
      "[ 9 14 12  1  8  7  7  8  7 15]\n"
     ]
    }
   ],
   "source": [
    "arregloInt = np.random.randint(low=0, high=20, size=(10))\n",
    "print(arregloInt)"
   ]
  },
  {
   "cell_type": "markdown",
   "metadata": {
    "colab_type": "text",
    "id": "HT50z35DgI5Z"
   },
   "source": [
    "3. Crear un arreglo booleano"
   ]
  },
  {
   "cell_type": "code",
   "execution_count": 4,
   "metadata": {
    "colab": {},
    "colab_type": "code",
    "id": "qNpgc4PJgJZD"
   },
   "outputs": [
    {
     "name": "stdout",
     "output_type": "stream",
     "text": [
      "[False  True  True False  True False]\n"
     ]
    }
   ],
   "source": [
    "arregloBool = np.array([False, True, True, False, True, False])\n",
    "print(arregloBool)"
   ]
  },
  {
   "cell_type": "markdown",
   "metadata": {
    "colab_type": "text",
    "id": "72xU-25UgQFG"
   },
   "source": [
    "4. Extraer los items que sean divisibles en 3."
   ]
  },
  {
   "cell_type": "code",
   "execution_count": 5,
   "metadata": {
    "colab": {},
    "colab_type": "code",
    "id": "Y7hzsF0qgKZf"
   },
   "outputs": [
    {
     "name": "stdout",
     "output_type": "stream",
     "text": [
      "Booleanos que indican si son divisibles:\n",
      "[ True False  True False False False False False False  True]\n",
      "\n",
      "Números del arreglo que son divisibles:\n",
      "[ 9 12 15]\n"
     ]
    }
   ],
   "source": [
    "arregloDiv3 = arregloInt % 3 == 0\n",
    "print(\"Booleanos que indican si son divisibles:\")\n",
    "print(arregloDiv3)\n",
    "print()\n",
    "print(\"Números del arreglo que son divisibles:\")\n",
    "print(arregloInt[arregloDiv3])"
   ]
  },
  {
   "cell_type": "markdown",
   "metadata": {
    "colab_type": "text",
    "id": "UPYsCQFJgQwA"
   },
   "source": [
    "5. Convierte el arreglo booleano de 1D a 2D con tres filas (*reshape*)"
   ]
  },
  {
   "cell_type": "code",
   "execution_count": 6,
   "metadata": {
    "colab": {},
    "colab_type": "code",
    "id": "CXh7h2AQgKSX"
   },
   "outputs": [
    {
     "name": "stdout",
     "output_type": "stream",
     "text": [
      "[[False  True]\n",
      " [ True False]\n",
      " [ True False]]\n"
     ]
    }
   ],
   "source": [
    "arregloTransf = arregloBool.reshape(3,2)\n",
    "print(arregloTransf)"
   ]
  },
  {
   "cell_type": "markdown",
   "metadata": {
    "colab_type": "text",
    "id": "rHI3QxeOhE3-"
   },
   "source": [
    "6. Obtén los items comunes entre dos arreglos"
   ]
  },
  {
   "cell_type": "code",
   "execution_count": 7,
   "metadata": {
    "colab": {},
    "colab_type": "code",
    "id": "_lKGSmSbhDcS"
   },
   "outputs": [
    {
     "name": "stdout",
     "output_type": "stream",
     "text": [
      "Elementos comunes:\n",
      "[ 2  4  6  8 10]\n"
     ]
    }
   ],
   "source": [
    "arregloA = np.array([1,2,3,4,5,6,7,8,9,10])\n",
    "arregloB = np.array([2,4,6,8,10,12,14,16,18,20])\n",
    "print(\"Elementos comunes:\")\n",
    "print(np.intersect1d(arregloA, arregloB))"
   ]
  },
  {
   "cell_type": "markdown",
   "metadata": {
    "colab_type": "text",
    "id": "_OtNQQK2gRo7"
   },
   "source": [
    "7. Extrae los números del vector creado en el ejercicio 2 que esten a dos números de distancia del valor promedio del arreglo."
   ]
  },
  {
   "cell_type": "code",
   "execution_count": 8,
   "metadata": {
    "colab": {},
    "colab_type": "code",
    "id": "NwmOy4nCgKOr"
   },
   "outputs": [
    {
     "name": "stdout",
     "output_type": "stream",
     "text": [
      "Valor Promedio: 8.8\n",
      "\n",
      "Los números cercanos al promedio son: [9 8 7 7 8 7]\n"
     ]
    }
   ],
   "source": [
    "valorPromedio = np.average(arregloInt)\n",
    "print(\"Valor Promedio:\", valorPromedio)\n",
    "print()\n",
    "numerosCercanos = np.where((arregloInt < valorPromedio +2) & (valorPromedio - 2 < arregloInt))\n",
    "\n",
    "print(\"Los números cercanos al promedio son:\", arregloInt[numerosCercanos])"
   ]
  },
  {
   "cell_type": "markdown",
   "metadata": {
    "colab_type": "text",
    "id": "gvNrTraKgSZh"
   },
   "source": [
    "8. Muestra solo 3 decimales en un vector."
   ]
  },
  {
   "cell_type": "code",
   "execution_count": 9,
   "metadata": {
    "colab": {},
    "colab_type": "code",
    "id": "1HQfRpemgKLb"
   },
   "outputs": [
    {
     "name": "stdout",
     "output_type": "stream",
     "text": [
      "[ 0.746 -0.617 -1.184 -1.404 -0.01   1.064  0.93  -0.348 -1.299 -0.824]\n"
     ]
    }
   ],
   "source": [
    "arregloFloat = np.random.randn(10)\n",
    "arregloLim = np.around(arregloFloat, decimals=3)\n",
    "print(arregloLim)"
   ]
  },
  {
   "cell_type": "markdown",
   "metadata": {
    "colab_type": "text",
    "id": "TwNsufyigTCG"
   },
   "source": [
    "9. Crea una atriz de 3x3 con los valores del 0 a 8"
   ]
  },
  {
   "cell_type": "code",
   "execution_count": 10,
   "metadata": {
    "colab": {},
    "colab_type": "code",
    "id": "HnST7oyFgKIK"
   },
   "outputs": [
    {
     "name": "stdout",
     "output_type": "stream",
     "text": [
      "[[0 1 2]\n",
      " [3 4 5]\n",
      " [6 7 8]]\n"
     ]
    }
   ],
   "source": [
    "matriz8 = np.arange(9).reshape(3,3)\n",
    "print(matriz8)"
   ]
  },
  {
   "cell_type": "markdown",
   "metadata": {
    "colab_type": "text",
    "id": "l9wHdeTygTTW"
   },
   "source": [
    "10. Del siguiente areglo [1,2,0,0,4,] encuentra los índices donde los elementos sean diferente a cero."
   ]
  },
  {
   "cell_type": "code",
   "execution_count": 11,
   "metadata": {
    "colab": {},
    "colab_type": "code",
    "id": "DQRdnk4UgVHK"
   },
   "outputs": [
    {
     "name": "stdout",
     "output_type": "stream",
     "text": [
      "(array([0, 1, 4], dtype=int64),)\n"
     ]
    }
   ],
   "source": [
    "ar = np.array([1,2,0,0,4])\n",
    "indicesDif = np.where(ar > 0)\n",
    "print(indicesDif)"
   ]
  },
  {
   "cell_type": "markdown",
   "metadata": {
    "colab_type": "text",
    "id": "xh5IJIeAgThu"
   },
   "source": [
    "11. Crea un vector aleatorio de 30 elementos y encuentra la media."
   ]
  },
  {
   "cell_type": "code",
   "execution_count": 12,
   "metadata": {
    "colab": {},
    "colab_type": "code",
    "id": "9d-XogxjB4YF"
   },
   "outputs": [
    {
     "name": "stdout",
     "output_type": "stream",
     "text": [
      "El arreglo es: [39 24 35 34 33 14 11 47 29 42 13 32 41  9  3 15 18  0 43 41 20 45 43 19\n",
      " 13 10 20 47  4 32]\n",
      "Su media es: 25.866666666666667\n"
     ]
    }
   ],
   "source": [
    "random30 = np.random.randint(0,50,30)\n",
    "print(\"El arreglo es:\", random30)\n",
    "print(\"Su media es:\", np.mean(random30))"
   ]
  },
  {
   "cell_type": "markdown",
   "metadata": {
    "colab_type": "text",
    "id": "Wo4p6o7DB5XQ"
   },
   "source": [
    "12. Crea un arreglo 2D con 1 en los bordes y 0 dentro. Por ejemplo:\n",
    "1 1 1 1 1\n",
    "1 0 0 0 1\n",
    "1 0 0 0 1\n",
    "1 1 1 1 1"
   ]
  },
  {
   "cell_type": "code",
   "execution_count": 13,
   "metadata": {
    "colab": {},
    "colab_type": "code",
    "id": "1mY_MRl1gUcy"
   },
   "outputs": [
    {
     "name": "stdout",
     "output_type": "stream",
     "text": [
      "[[1. 1. 1. 1.]\n",
      " [1. 1. 1. 1.]\n",
      " [1. 1. 1. 1.]\n",
      " [1. 1. 1. 1.]]\n",
      "\n",
      "[[1. 1. 1. 1.]\n",
      " [1. 0. 0. 1.]\n",
      " [1. 0. 0. 1.]\n",
      " [1. 1. 1. 1.]]\n"
     ]
    }
   ],
   "source": [
    "unos = np.ones((4,4))\n",
    "print(unos)\n",
    "print()\n",
    "unos[1:-1,1:-1] = 0\n",
    "print(unos)\n"
   ]
  },
  {
   "cell_type": "markdown",
   "metadata": {
    "colab_type": "text",
    "id": "PTHTcSFUCH56"
   },
   "source": [
    "13. ¿Cuál es el resultado de la siguiente expresión?\n",
    "\n",
    "`0 * np.nan`\n",
    "\n",
    "`np.nan == np.nan`\n",
    "\n",
    "`np.inf > np.nan`\n",
    "\n",
    "`np.nan - np.nan`\n",
    "\n",
    "`np.nan in set([np.nan])`\n",
    "\n",
    "`0.3 == 3 * 0.1`"
   ]
  },
  {
   "cell_type": "code",
   "execution_count": 14,
   "metadata": {
    "colab": {},
    "colab_type": "code",
    "id": "SjbCfONzgKFX"
   },
   "outputs": [
    {
     "name": "stdout",
     "output_type": "stream",
     "text": [
      "nan\n",
      "False\n",
      "False\n",
      "nan\n",
      "True\n",
      "False\n"
     ]
    }
   ],
   "source": [
    "print(0 * np.nan)\n",
    "print(np.nan == np.nan)\n",
    "print(np.inf > np.nan)\n",
    "print(np.nan - np.nan)\n",
    "print(np.nan in set([np.nan]))\n",
    "print(0.3 == 3 * 0.1)"
   ]
  },
  {
   "cell_type": "markdown",
   "metadata": {
    "colab_type": "text",
    "id": "_fUrAJmuCjG0"
   },
   "source": [
    "\n",
    "14. Crea una matriz de 5x5 con valores 1, 2, 3, 4 justo después de la diagonal."
   ]
  },
  {
   "cell_type": "code",
   "execution_count": 15,
   "metadata": {},
   "outputs": [
    {
     "name": "stdout",
     "output_type": "stream",
     "text": [
      "[1 2 3]\n"
     ]
    }
   ],
   "source": [
    "print(np.arange(1,4))"
   ]
  },
  {
   "cell_type": "code",
   "execution_count": 16,
   "metadata": {
    "colab": {},
    "colab_type": "code",
    "id": "N7cPSHdGgKCh"
   },
   "outputs": [
    {
     "name": "stdout",
     "output_type": "stream",
     "text": [
      "[[0. 0. 0. 0. 0.]\n",
      " [0. 0. 0. 0. 0.]\n",
      " [0. 0. 0. 0. 0.]\n",
      " [0. 0. 0. 0. 0.]\n",
      " [0. 0. 0. 0. 0.]]\n",
      "\n",
      "[[0. 0. 0. 0. 0.]\n",
      " [1. 0. 0. 0. 0.]\n",
      " [0. 2. 0. 0. 0.]\n",
      " [0. 0. 3. 0. 0.]\n",
      " [0. 0. 0. 4. 0.]]\n"
     ]
    }
   ],
   "source": [
    "ceros = np.zeros((5,5))\n",
    "print(ceros)\n",
    "print()\n",
    "\n",
    "ceros[np.arange(1,5), np.arange(0,4)] = [1, 2, 3, 4]\n",
    "print(ceros)\n"
   ]
  },
  {
   "cell_type": "markdown",
   "metadata": {
    "colab_type": "text",
    "id": "4YTdQAxaCwqo"
   },
   "source": [
    "15. Normaliza una matriz aleatoria de 5x5"
   ]
  },
  {
   "cell_type": "code",
   "execution_count": 43,
   "metadata": {
    "colab": {},
    "colab_type": "code",
    "id": "gsesZuXugJ_U"
   },
   "outputs": [
    {
     "name": "stdout",
     "output_type": "stream",
     "text": [
      "Matriz: [[3 5 2 6 7]\n",
      " [6 0 7 1 3]\n",
      " [1 7 8 5 3]\n",
      " [5 5 5 6 0]\n",
      " [8 1 7 3 4]]\n",
      "\n",
      "Determinante: 102.00000000000004\n",
      "\n",
      "[[0.02941176 0.04901961 0.01960784 0.05882353 0.06862745]\n",
      " [0.05882353 0.         0.06862745 0.00980392 0.02941176]\n",
      " [0.00980392 0.06862745 0.07843137 0.04901961 0.02941176]\n",
      " [0.04901961 0.04901961 0.04901961 0.05882353 0.        ]\n",
      " [0.07843137 0.00980392 0.06862745 0.02941176 0.03921569]]\n"
     ]
    }
   ],
   "source": [
    "mat5 = np.random.randint(low=0, high=10, size=(5,5))\n",
    "print(\"Matriz:\", mat5)\n",
    "print()\n",
    "det = np.linalg.det(mat5)\n",
    "print(\"Determinante:\", det)\n",
    "print()\n",
    "print(mat5*(1/det))"
   ]
  },
  {
   "cell_type": "code",
   "execution_count": 38,
   "metadata": {},
   "outputs": [
    {
     "data": {
      "text/plain": [
       "-2.0000000000000004"
      ]
     },
     "execution_count": 38,
     "metadata": {},
     "output_type": "execute_result"
    }
   ],
   "source": [
    "a = np.array([[1, 2], [3, 4]])\n",
    "np.linalg.det(a)"
   ]
  },
  {
   "cell_type": "markdown",
   "metadata": {
    "colab_type": "text",
    "id": "shifhibhVaGm"
   },
   "source": [
    "# 2. Pandas"
   ]
  },
  {
   "cell_type": "markdown",
   "metadata": {
    "colab_type": "text",
    "id": "KBII-ub3C83k"
   },
   "source": [
    "1. Imprime toda la información de versión de las librerias que necesita la biblioteca de pangas."
   ]
  },
  {
   "cell_type": "code",
   "execution_count": 17,
   "metadata": {
    "colab": {},
    "colab_type": "code",
    "id": "YhnQ62d0iSmO"
   },
   "outputs": [
    {
     "name": "stdout",
     "output_type": "stream",
     "text": [
      "\n",
      "INSTALLED VERSIONS\n",
      "------------------\n",
      "commit           : None\n",
      "python           : 3.7.6.final.0\n",
      "python-bits      : 64\n",
      "OS               : Windows\n",
      "OS-release       : 10\n",
      "machine          : AMD64\n",
      "processor        : Intel64 Family 6 Model 142 Stepping 10, GenuineIntel\n",
      "byteorder        : little\n",
      "LC_ALL           : None\n",
      "LANG             : None\n",
      "LOCALE           : None.None\n",
      "\n",
      "pandas           : 1.0.0\n",
      "numpy            : 1.18.1\n",
      "pytz             : 2019.3\n",
      "dateutil         : 2.8.1\n",
      "pip              : 20.0.2\n",
      "setuptools       : 45.1.0.post20200127\n",
      "Cython           : 0.29.14\n",
      "pytest           : 5.3.5\n",
      "hypothesis       : 5.4.1\n",
      "sphinx           : 2.3.1\n",
      "blosc            : None\n",
      "feather          : None\n",
      "xlsxwriter       : 1.2.7\n",
      "lxml.etree       : 4.5.0\n",
      "html5lib         : 1.0.1\n",
      "pymysql          : None\n",
      "psycopg2         : None\n",
      "jinja2           : 2.11.1\n",
      "IPython          : 7.12.0\n",
      "pandas_datareader: None\n",
      "bs4              : 4.8.2\n",
      "bottleneck       : 1.3.1\n",
      "fastparquet      : None\n",
      "gcsfs            : None\n",
      "lxml.etree       : 4.5.0\n",
      "matplotlib       : 3.1.3\n",
      "numexpr          : 2.7.1\n",
      "odfpy            : None\n",
      "openpyxl         : 3.0.3\n",
      "pandas_gbq       : None\n",
      "pyarrow          : None\n",
      "pytables         : None\n",
      "pytest           : 5.3.5\n",
      "pyxlsb           : None\n",
      "s3fs             : None\n",
      "scipy            : 1.3.2\n",
      "sqlalchemy       : 1.3.13\n",
      "tables           : 3.6.1\n",
      "tabulate         : None\n",
      "xarray           : None\n",
      "xlrd             : 1.2.0\n",
      "xlwt             : 1.3.0\n",
      "xlsxwriter       : 1.2.7\n",
      "numba            : 0.48.0\n"
     ]
    }
   ],
   "source": [
    "pd.show_versions()"
   ]
  },
  {
   "cell_type": "markdown",
   "metadata": {
    "colab_type": "text",
    "id": "Qib5ZPvRDi8_"
   },
   "source": [
    "Considera el siguiente diccionario y lista.\n",
    "\n",
    "\n",
    "```\n",
    "data = {\n",
    "     'animal': ['cat', 'cat', 'snake', 'dog', 'dog', 'cat', 'snake', 'cat', 'dog', 'dog'],\n",
    "     'age': [2.5, 3, 0.5, np.nan, 5, 2, 4.5, np.nan, 7, 3],\n",
    "     'visits': [1, 3, 2, 3, 2, 3, 1, 1, 2, 1],\n",
    "     'priority': ['yes', 'yes', 'no', 'yes', 'no', 'no', 'no', 'yes', 'no', 'no']\n",
    "}\n",
    "\n",
    "labels = ['a', 'b', 'c', 'd', 'e', 'f', 'g', 'h', 'i', 'j']\n",
    "```"
   ]
  },
  {
   "cell_type": "markdown",
   "metadata": {
    "colab_type": "text",
    "id": "ke6gyUpZNMLN"
   },
   "source": [
    "2. Crea un DataFrame con el diccionario *data* que tenga como índices los valores de la lista *labels*."
   ]
  },
  {
   "cell_type": "code",
   "execution_count": 18,
   "metadata": {
    "colab": {},
    "colab_type": "code",
    "id": "OE6nyX2VDjGi"
   },
   "outputs": [
    {
     "name": "stdout",
     "output_type": "stream",
     "text": [
      "  animal  age  visits priority\n",
      "a    cat  2.5       1      yes\n",
      "b    cat  3.0       3      yes\n",
      "c  snake  0.5       2       no\n",
      "d    dog  NaN       3      yes\n",
      "e    dog  5.0       2       no\n",
      "f    cat  2.0       3       no\n",
      "g  snake  4.5       1       no\n",
      "h    cat  NaN       1      yes\n",
      "i    dog  7.0       2       no\n",
      "j    dog  3.0       1       no\n"
     ]
    }
   ],
   "source": [
    "data = {\n",
    "     'animal': ['cat', 'cat', 'snake', 'dog', 'dog', 'cat', 'snake', 'cat', 'dog', 'dog'],\n",
    "     'age': [2.5, 3, 0.5, np.nan, 5, 2, 4.5, np.nan, 7, 3],\n",
    "     'visits': [1, 3, 2, 3, 2, 3, 1, 1, 2, 1],\n",
    "     'priority': ['yes', 'yes', 'no', 'yes', 'no', 'no', 'no', 'yes', 'no', 'no']\n",
    "}\n",
    "\n",
    "labels = ['a', 'b', 'c', 'd', 'e', 'f', 'g', 'h', 'i', 'j']\n",
    "\n",
    "df = pd.DataFrame(data, index = labels)\n",
    "print(df)"
   ]
  },
  {
   "cell_type": "markdown",
   "metadata": {
    "colab_type": "text",
    "id": "mCFvk9YxDjOv"
   },
   "source": [
    "3. Muestra una descripción o información básica acerca del DataFrame y sus datos. (Pista: existe una función que lo muestra)."
   ]
  },
  {
   "cell_type": "code",
   "execution_count": 19,
   "metadata": {
    "colab": {},
    "colab_type": "code",
    "id": "7NvurAz-DjYt"
   },
   "outputs": [
    {
     "name": "stdout",
     "output_type": "stream",
     "text": [
      "<class 'pandas.core.frame.DataFrame'>\n",
      "Index: 10 entries, a to j\n",
      "Data columns (total 4 columns):\n",
      " #   Column    Non-Null Count  Dtype  \n",
      "---  ------    --------------  -----  \n",
      " 0   animal    10 non-null     object \n",
      " 1   age       8 non-null      float64\n",
      " 2   visits    10 non-null     int64  \n",
      " 3   priority  10 non-null     object \n",
      "dtypes: float64(1), int64(1), object(2)\n",
      "memory usage: 400.0+ bytes\n"
     ]
    }
   ],
   "source": [
    "df.info()"
   ]
  },
  {
   "cell_type": "markdown",
   "metadata": {
    "colab_type": "text",
    "id": "DAD9y4NEDj4f"
   },
   "source": [
    "4. Regresa las primeras 3 filas del DataFrame"
   ]
  },
  {
   "cell_type": "code",
   "execution_count": 20,
   "metadata": {
    "colab": {},
    "colab_type": "code",
    "id": "SldIl9R_DkDG"
   },
   "outputs": [
    {
     "data": {
      "text/html": [
       "<div>\n",
       "<style scoped>\n",
       "    .dataframe tbody tr th:only-of-type {\n",
       "        vertical-align: middle;\n",
       "    }\n",
       "\n",
       "    .dataframe tbody tr th {\n",
       "        vertical-align: top;\n",
       "    }\n",
       "\n",
       "    .dataframe thead th {\n",
       "        text-align: right;\n",
       "    }\n",
       "</style>\n",
       "<table border=\"1\" class=\"dataframe\">\n",
       "  <thead>\n",
       "    <tr style=\"text-align: right;\">\n",
       "      <th></th>\n",
       "      <th>animal</th>\n",
       "      <th>age</th>\n",
       "      <th>visits</th>\n",
       "      <th>priority</th>\n",
       "    </tr>\n",
       "  </thead>\n",
       "  <tbody>\n",
       "    <tr>\n",
       "      <th>a</th>\n",
       "      <td>cat</td>\n",
       "      <td>2.5</td>\n",
       "      <td>1</td>\n",
       "      <td>yes</td>\n",
       "    </tr>\n",
       "    <tr>\n",
       "      <th>b</th>\n",
       "      <td>cat</td>\n",
       "      <td>3.0</td>\n",
       "      <td>3</td>\n",
       "      <td>yes</td>\n",
       "    </tr>\n",
       "    <tr>\n",
       "      <th>c</th>\n",
       "      <td>snake</td>\n",
       "      <td>0.5</td>\n",
       "      <td>2</td>\n",
       "      <td>no</td>\n",
       "    </tr>\n",
       "  </tbody>\n",
       "</table>\n",
       "</div>"
      ],
      "text/plain": [
       "  animal  age  visits priority\n",
       "a    cat  2.5       1      yes\n",
       "b    cat  3.0       3      yes\n",
       "c  snake  0.5       2       no"
      ]
     },
     "execution_count": 20,
     "metadata": {},
     "output_type": "execute_result"
    }
   ],
   "source": [
    "df.head(3)"
   ]
  },
  {
   "cell_type": "markdown",
   "metadata": {
    "colab_type": "text",
    "id": "s9MJp0A1DkLM"
   },
   "source": [
    "5. Cambia el nombre de las columnas por:\n",
    "\n",
    "\n",
    "*   Animal\n",
    "*   Edad\n",
    "*   Visitas\n",
    "*   Prioridad\n",
    "\n"
   ]
  },
  {
   "cell_type": "code",
   "execution_count": 21,
   "metadata": {
    "colab": {},
    "colab_type": "code",
    "id": "XWJgv7ZUDkW3"
   },
   "outputs": [
    {
     "name": "stdout",
     "output_type": "stream",
     "text": [
      "  Animal  Edad  Visitas Prioridad\n",
      "a    cat   2.5        1       yes\n",
      "b    cat   3.0        3       yes\n",
      "c  snake   0.5        2        no\n",
      "d    dog   NaN        3       yes\n",
      "e    dog   5.0        2        no\n",
      "f    cat   2.0        3        no\n",
      "g  snake   4.5        1        no\n",
      "h    cat   NaN        1       yes\n",
      "i    dog   7.0        2        no\n",
      "j    dog   3.0        1        no\n"
     ]
    }
   ],
   "source": [
    "df.columns = ['Animal', 'Edad', 'Visitas', 'Prioridad']\n",
    "print(df)"
   ]
  },
  {
   "cell_type": "markdown",
   "metadata": {
    "colab_type": "text",
    "id": "XWHtY3KRDkff"
   },
   "source": [
    "6. Muestra solo la columna \"animal\" and \"age\". ¿Esto es posible? Si no es posible, ¿qué debería ser?"
   ]
  },
  {
   "cell_type": "code",
   "execution_count": 22,
   "metadata": {
    "colab": {},
    "colab_type": "code",
    "id": "1ysdq3HZDkmn"
   },
   "outputs": [
    {
     "name": "stdout",
     "output_type": "stream",
     "text": [
      "  Animal  Edad\n",
      "a    cat   2.5\n",
      "b    cat   3.0\n",
      "c  snake   0.5\n",
      "d    dog   NaN\n",
      "e    dog   5.0\n",
      "f    cat   2.0\n",
      "g  snake   4.5\n",
      "h    cat   NaN\n",
      "i    dog   7.0\n",
      "j    dog   3.0\n"
     ]
    }
   ],
   "source": [
    "print(df[['Animal','Edad']])"
   ]
  },
  {
   "cell_type": "markdown",
   "metadata": {
    "colab_type": "text",
    "id": "FozTvSf8Dkvk"
   },
   "source": [
    "7. Selecciona solo las filas donde el número de visitas sea mayor que 3."
   ]
  },
  {
   "cell_type": "code",
   "execution_count": 23,
   "metadata": {
    "colab": {},
    "colab_type": "code",
    "id": "RUfabyzfDk2m"
   },
   "outputs": [
    {
     "name": "stdout",
     "output_type": "stream",
     "text": [
      "  Animal  Edad  Visitas Prioridad\n",
      "b    cat   3.0        3       yes\n",
      "d    dog   NaN        3       yes\n",
      "f    cat   2.0        3        no\n"
     ]
    }
   ],
   "source": [
    "visitasMayor3 = df['Visitas']>=3\n",
    "print(df[visitasMayor3])"
   ]
  },
  {
   "cell_type": "markdown",
   "metadata": {
    "colab_type": "text",
    "id": "OqQFY4lWDk_V"
   },
   "source": [
    "8. ¿Cuáles son las filas donde la edad es NaN?"
   ]
  },
  {
   "cell_type": "code",
   "execution_count": 24,
   "metadata": {
    "colab": {},
    "colab_type": "code",
    "id": "aFj3aO35DlIN"
   },
   "outputs": [
    {
     "name": "stdout",
     "output_type": "stream",
     "text": [
      "  Animal  Edad  Visitas Prioridad\n",
      "d    dog   NaN        3       yes\n",
      "h    cat   NaN        1       yes\n"
     ]
    }
   ],
   "source": [
    "edadNan = np.isnan(df['Edad'])\n",
    "print(df[edadNan])"
   ]
  },
  {
   "cell_type": "markdown",
   "metadata": {
    "colab_type": "text",
    "id": "mpWf6A3rDlQp"
   },
   "source": [
    "9. ¿Qué animales tienen una edad entre 2 y 4 años?"
   ]
  },
  {
   "cell_type": "code",
   "execution_count": 25,
   "metadata": {
    "colab": {},
    "colab_type": "code",
    "id": "Uoc8qyOHDlXh"
   },
   "outputs": [
    {
     "name": "stdout",
     "output_type": "stream",
     "text": [
      "  Animal  Edad  Visitas Prioridad\n",
      "a    cat   2.5        1       yes\n",
      "b    cat   3.0        3       yes\n",
      "f    cat   2.0        3        no\n",
      "j    dog   3.0        1        no\n"
     ]
    }
   ],
   "source": [
    "edadFiltro = df['Edad'].between(2,4)\n",
    "print(df[edadFiltro])"
   ]
  },
  {
   "cell_type": "markdown",
   "metadata": {
    "colab_type": "text",
    "id": "tnrCUXWcDlgU"
   },
   "source": [
    "10. ¿Cuál es el total de todas las visitas?"
   ]
  },
  {
   "cell_type": "code",
   "execution_count": 26,
   "metadata": {
    "colab": {},
    "colab_type": "code",
    "id": "7--lmUybDloe"
   },
   "outputs": [
    {
     "name": "stdout",
     "output_type": "stream",
     "text": [
      "19\n"
     ]
    }
   ],
   "source": [
    "totalVisitas = df['Visitas'].sum()\n",
    "print(totalVisitas)"
   ]
  },
  {
   "cell_type": "markdown",
   "metadata": {
    "colab_type": "text",
    "id": "MY5iS4rRDlxw"
   },
   "source": [
    "12. Tenemos diferentes animales, ¿cuál es el número total de cada tipo de animal?"
   ]
  },
  {
   "cell_type": "code",
   "execution_count": 27,
   "metadata": {
    "colab": {},
    "colab_type": "code",
    "id": "MlVCJ6kVDl7f"
   },
   "outputs": [
    {
     "name": "stdout",
     "output_type": "stream",
     "text": [
      "        Edad  Visitas  Prioridad\n",
      "Animal                          \n",
      "cat        3        4          4\n",
      "dog        3        4          4\n",
      "snake      2        2          2\n",
      "\n",
      "dog      4\n",
      "cat      4\n",
      "snake    2\n",
      "Name: Animal, dtype: int64\n"
     ]
    }
   ],
   "source": [
    "print(df.groupby(['Animal']).count())\n",
    "print()\n",
    "print(df['Animal'].value_counts())"
   ]
  },
  {
   "cell_type": "markdown",
   "metadata": {
    "colab_type": "text",
    "id": "VoCgnLRqDmDr"
   },
   "source": [
    "13. Cambia los valores de la columna Prioridad por valores booleanos, es decir:\n",
    "'yes' => True \n",
    "'no' => False"
   ]
  },
  {
   "cell_type": "code",
   "execution_count": 28,
   "metadata": {
    "colab": {},
    "colab_type": "code",
    "id": "HRC1emFMDmNv"
   },
   "outputs": [
    {
     "name": "stdout",
     "output_type": "stream",
     "text": [
      "  Animal  Edad  Visitas Prioridad\n",
      "a    cat   2.5        1      True\n",
      "b    cat   3.0        3      True\n",
      "c  snake   0.5        2     False\n",
      "d    dog   NaN        3      True\n",
      "e    dog   5.0        2     False\n",
      "f    cat   2.0        3     False\n",
      "g  snake   4.5        1     False\n",
      "h    cat   NaN        1      True\n",
      "i    dog   7.0        2     False\n",
      "j    dog   3.0        1     False\n"
     ]
    }
   ],
   "source": [
    "df.loc[df.Prioridad=='yes', 'Prioridad'] = True\n",
    "df.loc[df.Prioridad=='no', 'Prioridad'] = False\n",
    "print(df)"
   ]
  },
  {
   "cell_type": "markdown",
   "metadata": {
    "colab_type": "text",
    "id": "qZOd6ptKDmcl"
   },
   "source": [
    "14. Ordena el DataFrame por la Edad en orden descendiente y después por la columna Visitas en orden ascendente."
   ]
  },
  {
   "cell_type": "code",
   "execution_count": 29,
   "metadata": {
    "colab": {},
    "colab_type": "code",
    "id": "VdcndP_7Dmj3"
   },
   "outputs": [
    {
     "data": {
      "text/html": [
       "<div>\n",
       "<style scoped>\n",
       "    .dataframe tbody tr th:only-of-type {\n",
       "        vertical-align: middle;\n",
       "    }\n",
       "\n",
       "    .dataframe tbody tr th {\n",
       "        vertical-align: top;\n",
       "    }\n",
       "\n",
       "    .dataframe thead th {\n",
       "        text-align: right;\n",
       "    }\n",
       "</style>\n",
       "<table border=\"1\" class=\"dataframe\">\n",
       "  <thead>\n",
       "    <tr style=\"text-align: right;\">\n",
       "      <th></th>\n",
       "      <th>Animal</th>\n",
       "      <th>Edad</th>\n",
       "      <th>Visitas</th>\n",
       "      <th>Prioridad</th>\n",
       "    </tr>\n",
       "  </thead>\n",
       "  <tbody>\n",
       "    <tr>\n",
       "      <th>c</th>\n",
       "      <td>snake</td>\n",
       "      <td>0.5</td>\n",
       "      <td>2</td>\n",
       "      <td>False</td>\n",
       "    </tr>\n",
       "    <tr>\n",
       "      <th>f</th>\n",
       "      <td>cat</td>\n",
       "      <td>2.0</td>\n",
       "      <td>3</td>\n",
       "      <td>False</td>\n",
       "    </tr>\n",
       "    <tr>\n",
       "      <th>a</th>\n",
       "      <td>cat</td>\n",
       "      <td>2.5</td>\n",
       "      <td>1</td>\n",
       "      <td>True</td>\n",
       "    </tr>\n",
       "    <tr>\n",
       "      <th>j</th>\n",
       "      <td>dog</td>\n",
       "      <td>3.0</td>\n",
       "      <td>1</td>\n",
       "      <td>False</td>\n",
       "    </tr>\n",
       "    <tr>\n",
       "      <th>b</th>\n",
       "      <td>cat</td>\n",
       "      <td>3.0</td>\n",
       "      <td>3</td>\n",
       "      <td>True</td>\n",
       "    </tr>\n",
       "    <tr>\n",
       "      <th>g</th>\n",
       "      <td>snake</td>\n",
       "      <td>4.5</td>\n",
       "      <td>1</td>\n",
       "      <td>False</td>\n",
       "    </tr>\n",
       "    <tr>\n",
       "      <th>e</th>\n",
       "      <td>dog</td>\n",
       "      <td>5.0</td>\n",
       "      <td>2</td>\n",
       "      <td>False</td>\n",
       "    </tr>\n",
       "    <tr>\n",
       "      <th>i</th>\n",
       "      <td>dog</td>\n",
       "      <td>7.0</td>\n",
       "      <td>2</td>\n",
       "      <td>False</td>\n",
       "    </tr>\n",
       "    <tr>\n",
       "      <th>h</th>\n",
       "      <td>cat</td>\n",
       "      <td>NaN</td>\n",
       "      <td>1</td>\n",
       "      <td>True</td>\n",
       "    </tr>\n",
       "    <tr>\n",
       "      <th>d</th>\n",
       "      <td>dog</td>\n",
       "      <td>NaN</td>\n",
       "      <td>3</td>\n",
       "      <td>True</td>\n",
       "    </tr>\n",
       "  </tbody>\n",
       "</table>\n",
       "</div>"
      ],
      "text/plain": [
       "  Animal  Edad  Visitas Prioridad\n",
       "c  snake   0.5        2     False\n",
       "f    cat   2.0        3     False\n",
       "a    cat   2.5        1      True\n",
       "j    dog   3.0        1     False\n",
       "b    cat   3.0        3      True\n",
       "g  snake   4.5        1     False\n",
       "e    dog   5.0        2     False\n",
       "i    dog   7.0        2     False\n",
       "h    cat   NaN        1      True\n",
       "d    dog   NaN        3      True"
      ]
     },
     "execution_count": 29,
     "metadata": {},
     "output_type": "execute_result"
    }
   ],
   "source": [
    "df.sort_values(by=['Edad', 'Visitas'], ascending=True)"
   ]
  },
  {
   "cell_type": "markdown",
   "metadata": {
    "colab_type": "text",
    "id": "epccus9FDmuO"
   },
   "source": [
    "15. Para cada tipo de animal y cada número de visitas encuentra la edad promedio. \n",
    "(Pista: Si haz utilizado tablas pivotes, cada fila es un animal, cada columna es el número de visitas y los valores son la media de la edad)."
   ]
  },
  {
   "cell_type": "code",
   "execution_count": 30,
   "metadata": {
    "colab": {},
    "colab_type": "code",
    "id": "U7acJZ6BDm9k"
   },
   "outputs": [
    {
     "data": {
      "text/html": [
       "<div>\n",
       "<style scoped>\n",
       "    .dataframe tbody tr th:only-of-type {\n",
       "        vertical-align: middle;\n",
       "    }\n",
       "\n",
       "    .dataframe tbody tr th {\n",
       "        vertical-align: top;\n",
       "    }\n",
       "\n",
       "    .dataframe thead th {\n",
       "        text-align: right;\n",
       "    }\n",
       "</style>\n",
       "<table border=\"1\" class=\"dataframe\">\n",
       "  <thead>\n",
       "    <tr style=\"text-align: right;\">\n",
       "      <th></th>\n",
       "      <th></th>\n",
       "      <th>Edad</th>\n",
       "    </tr>\n",
       "    <tr>\n",
       "      <th>Animal</th>\n",
       "      <th>Visitas</th>\n",
       "      <th></th>\n",
       "    </tr>\n",
       "  </thead>\n",
       "  <tbody>\n",
       "    <tr>\n",
       "      <th rowspan=\"2\" valign=\"top\">cat</th>\n",
       "      <th>1</th>\n",
       "      <td>2.5</td>\n",
       "    </tr>\n",
       "    <tr>\n",
       "      <th>3</th>\n",
       "      <td>2.5</td>\n",
       "    </tr>\n",
       "    <tr>\n",
       "      <th rowspan=\"3\" valign=\"top\">dog</th>\n",
       "      <th>1</th>\n",
       "      <td>3.0</td>\n",
       "    </tr>\n",
       "    <tr>\n",
       "      <th>2</th>\n",
       "      <td>6.0</td>\n",
       "    </tr>\n",
       "    <tr>\n",
       "      <th>3</th>\n",
       "      <td>NaN</td>\n",
       "    </tr>\n",
       "    <tr>\n",
       "      <th rowspan=\"2\" valign=\"top\">snake</th>\n",
       "      <th>1</th>\n",
       "      <td>4.5</td>\n",
       "    </tr>\n",
       "    <tr>\n",
       "      <th>2</th>\n",
       "      <td>0.5</td>\n",
       "    </tr>\n",
       "  </tbody>\n",
       "</table>\n",
       "</div>"
      ],
      "text/plain": [
       "                Edad\n",
       "Animal Visitas      \n",
       "cat    1         2.5\n",
       "       3         2.5\n",
       "dog    1         3.0\n",
       "       2         6.0\n",
       "       3         NaN\n",
       "snake  1         4.5\n",
       "       2         0.5"
      ]
     },
     "execution_count": 30,
     "metadata": {},
     "output_type": "execute_result"
    }
   ],
   "source": [
    "df.groupby(['Animal', 'Visitas']).mean()"
   ]
  },
  {
   "cell_type": "markdown",
   "metadata": {
    "colab_type": "text",
    "id": "c2yGANNNPmjL"
   },
   "source": [
    "# 3. Retos (opcional)\n",
    "\n",
    "- Random Walk\n",
    "\n",
    "- Game of Life\n",
    "\n",
    "- Imagenes\n",
    "\n",
    "- Texto"
   ]
  }
 ],
 "metadata": {
  "colab": {
   "collapsed_sections": [
    "Pbp6nOk8TpYL",
    "MQTzp5SALqGf",
    "5FHaQq39Ufng"
   ],
   "name": "Copia de Sesión 3 - Práctica de Datos.ipynb",
   "provenance": [
    {
     "file_id": "1ljAmKIoXK8UL3l3FTxBgQpM4hDVf0Irv",
     "timestamp": 1556666988185
    }
   ],
   "version": "0.3.2"
  },
  "kernelspec": {
   "display_name": "Python 3",
   "language": "python",
   "name": "python3"
  },
  "language_info": {
   "codemirror_mode": {
    "name": "ipython",
    "version": 3
   },
   "file_extension": ".py",
   "mimetype": "text/x-python",
   "name": "python",
   "nbconvert_exporter": "python",
   "pygments_lexer": "ipython3",
   "version": "3.7.6"
  }
 },
 "nbformat": 4,
 "nbformat_minor": 1
}
