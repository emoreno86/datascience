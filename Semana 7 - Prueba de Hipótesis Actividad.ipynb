{
 "cells": [
  {
   "cell_type": "code",
   "execution_count": 1,
   "metadata": {},
   "outputs": [],
   "source": [
    "import scipy.stats as st\n",
    "import seaborn as sns\n",
    "import pandas as pd\n",
    "import numpy as np\n",
    "import matplotlib.pyplot as plt\n",
    "sns.set_style('whitegrid')"
   ]
  },
  {
   "cell_type": "code",
   "execution_count": 2,
   "metadata": {},
   "outputs": [
    {
     "data": {
      "text/html": [
       "<div>\n",
       "<style scoped>\n",
       "    .dataframe tbody tr th:only-of-type {\n",
       "        vertical-align: middle;\n",
       "    }\n",
       "\n",
       "    .dataframe tbody tr th {\n",
       "        vertical-align: top;\n",
       "    }\n",
       "\n",
       "    .dataframe thead th {\n",
       "        text-align: right;\n",
       "    }\n",
       "</style>\n",
       "<table border=\"1\" class=\"dataframe\">\n",
       "  <thead>\n",
       "    <tr style=\"text-align: right;\">\n",
       "      <th></th>\n",
       "      <th>Unnamed: 0</th>\n",
       "      <th>MarketID</th>\n",
       "      <th>MarketSize</th>\n",
       "      <th>LocationID</th>\n",
       "      <th>AgeOfStore</th>\n",
       "      <th>Promotion</th>\n",
       "      <th>week</th>\n",
       "      <th>SalesInThousands</th>\n",
       "    </tr>\n",
       "  </thead>\n",
       "  <tbody>\n",
       "    <tr>\n",
       "      <th>0</th>\n",
       "      <td>0</td>\n",
       "      <td>1</td>\n",
       "      <td>Medium</td>\n",
       "      <td>1</td>\n",
       "      <td>4</td>\n",
       "      <td>3</td>\n",
       "      <td>1</td>\n",
       "      <td>33.73</td>\n",
       "    </tr>\n",
       "    <tr>\n",
       "      <th>1</th>\n",
       "      <td>1</td>\n",
       "      <td>1</td>\n",
       "      <td>Medium</td>\n",
       "      <td>1</td>\n",
       "      <td>4</td>\n",
       "      <td>3</td>\n",
       "      <td>2</td>\n",
       "      <td>35.67</td>\n",
       "    </tr>\n",
       "    <tr>\n",
       "      <th>2</th>\n",
       "      <td>2</td>\n",
       "      <td>1</td>\n",
       "      <td>Medium</td>\n",
       "      <td>1</td>\n",
       "      <td>4</td>\n",
       "      <td>3</td>\n",
       "      <td>3</td>\n",
       "      <td>29.03</td>\n",
       "    </tr>\n",
       "    <tr>\n",
       "      <th>3</th>\n",
       "      <td>3</td>\n",
       "      <td>1</td>\n",
       "      <td>Medium</td>\n",
       "      <td>1</td>\n",
       "      <td>4</td>\n",
       "      <td>3</td>\n",
       "      <td>4</td>\n",
       "      <td>39.25</td>\n",
       "    </tr>\n",
       "    <tr>\n",
       "      <th>4</th>\n",
       "      <td>4</td>\n",
       "      <td>1</td>\n",
       "      <td>Medium</td>\n",
       "      <td>2</td>\n",
       "      <td>5</td>\n",
       "      <td>2</td>\n",
       "      <td>1</td>\n",
       "      <td>27.81</td>\n",
       "    </tr>\n",
       "  </tbody>\n",
       "</table>\n",
       "</div>"
      ],
      "text/plain": [
       "   Unnamed: 0  MarketID MarketSize  LocationID  AgeOfStore  Promotion  week  \\\n",
       "0           0         1     Medium           1           4          3     1   \n",
       "1           1         1     Medium           1           4          3     2   \n",
       "2           2         1     Medium           1           4          3     3   \n",
       "3           3         1     Medium           1           4          3     4   \n",
       "4           4         1     Medium           2           5          2     1   \n",
       "\n",
       "   SalesInThousands  \n",
       "0             33.73  \n",
       "1             35.67  \n",
       "2             29.03  \n",
       "3             39.25  \n",
       "4             27.81  "
      ]
     },
     "execution_count": 2,
     "metadata": {},
     "output_type": "execute_result"
    }
   ],
   "source": [
    "df = pd.read_csv(\"DataSetSemana1.csv\")\n",
    "df.head()"
   ]
  },
  {
   "cell_type": "code",
   "execution_count": 14,
   "metadata": {},
   "outputs": [
    {
     "name": "stdout",
     "output_type": "stream",
     "text": [
      "La gráfica nos muestra que la distribución de la edad de las tiendas no es normal, asemeja más a una exponencial\n"
     ]
    },
    {
     "data": {
      "image/png": "[encoded data removed]",
      "text/plain": [
       "<Figure size 432x288 with 1 Axes>"
      ]
     },
     "metadata": {},
     "output_type": "display_data"
    }
   ],
   "source": [
    "#Graficamos la edad de las tiendas\n",
    "plt.hist(df['AgeOfStore'],density=True,label='Muestra',bins=20,color='r',alpha=.4)\n",
    "plt.vlines(df['AgeOfStore'].mean(),0,.4,color='cyan')\n",
    "plt.legend()\n",
    "print(\"La gráfica nos muestra que la distribución de la edad de las tiendas no es normal, asemeja más a una exponencial\")"
   ]
  },
  {
   "cell_type": "code",
   "execution_count": 8,
   "metadata": {},
   "outputs": [
    {
     "name": "stdout",
     "output_type": "stream",
     "text": [
      "La gráfica nos muestra únicamente tenemos 3 valores de promociones dentro de nuestraa muestra, los 3 valores únicos son 1, 2 y 3 y que además el % de participación de cada promoción es muy similar, dado que las barras tienen alturas similares y la línea de la media está sobre la barra del 2\n"
     ]
    },
    {
     "data": {
      "image/png": "[encoded data removed]",
      "text/plain": [
       "<Figure size 432x288 with 1 Axes>"
      ]
     },
     "metadata": {},
     "output_type": "display_data"
    }
   ],
   "source": [
    "#Graficamos las promociones\n",
    "plt.hist(df['Promotion'],density=True,label='Muestra',bins=20,color='r',alpha=.4)\n",
    "plt.vlines(df['Promotion'].mean(),0,.4,color='cyan')\n",
    "plt.legend()\n",
    "print(\"La gráfica nos muestra que únicamente tenemos 3 valores de promociones dentro de nuestra muestra, los 3 valores únicos son 1, 2 y 3 y que además el % de participación de cada promoción es muy similar, dado que las barras tienen alturas similares y la línea de la media está sobre la barra del 2\")"
   ]
  },
  {
   "cell_type": "code",
   "execution_count": 12,
   "metadata": {},
   "outputs": [
    {
     "name": "stdout",
     "output_type": "stream",
     "text": [
      "La gráfica nos muestra que únicamente tenemos 4 valores dentro de nuestro dataset 1, 2, 3 y 4. También nos dice que los valores están distribuidos exactamente de manera equitativa, al tener la media exactamente en el 2.5.\n"
     ]
    },
    {
     "data": {
      "image/png": "[encoded data removed]",
      "text/plain": [
       "<Figure size 432x288 with 1 Axes>"
      ]
     },
     "metadata": {},
     "output_type": "display_data"
    }
   ],
   "source": [
    "#Graficamos las semanas de ventas\n",
    "plt.hist(df['week'],density=True,label='Muestra',bins=20,color='r',alpha=.4)\n",
    "plt.vlines(df['week'].mean(),0,.4,color='cyan')\n",
    "plt.legend()\n",
    "print(\"La gráfica nos muestra que únicamente tenemos 4 valores dentro de nuestro dataset 1, 2, 3 y 4. También nos dice que los valores están distribuidos exactamente de manera equitativa, al tener la media exactamente en el 2.5.\")"
   ]
  },
  {
   "cell_type": "code",
   "execution_count": 29,
   "metadata": {},
   "outputs": [
    {
     "name": "stdout",
     "output_type": "stream",
     "text": [
      "Esta gráfica nos representa una distribución normal, que tiene outliers en su extremo derecho lo que ocasiona que la media se mueva un poco hacia este lado (rondando entre 50 y 60).\n"
     ]
    },
    {
     "data": {
      "image/png": "[encoded data removed]",
      "text/plain": [
       "<Figure size 432x288 with 1 Axes>"
      ]
     },
     "metadata": {},
     "output_type": "display_data"
    }
   ],
   "source": [
    "#Graficamos las Ventas\n",
    "plt.hist(df['SalesInThousands'],density=True,label='Muestra',bins=20,color='r',alpha=.4)\n",
    "plt.vlines(df['SalesInThousands'].mean(),0,.4,color='cyan')\n",
    "plt.legend()\n",
    "print(\"Esta gráfica nos representa una distribución normal, que tiene outliers en su extremo derecho lo que ocasiona que la media se mueva un poco hacia este lado (rondando entre 50 y 60).\")"
   ]
  },
  {
   "cell_type": "code",
   "execution_count": 20,
   "metadata": {},
   "outputs": [
    {
     "name": "stdout",
     "output_type": "stream",
     "text": [
      "Esta gráfica a simple vista nos indica que tenemos 10 diferentes tipos de mercado, siendo el 3ro el que más se .\n"
     ]
    },
    {
     "data": {
      "image/png": "[encoded data removed]",
      "text/plain": [
       "<Figure size 432x288 with 1 Axes>"
      ]
     },
     "metadata": {},
     "output_type": "display_data"
    }
   ],
   "source": [
    "#Graficamos MarketID\n",
    "plt.hist(df['MarketID'],density=True,label='Muestra',bins=20,color='r',alpha=.4)\n",
    "plt.vlines(df['MarketID'].mean(),0,.1,color='cyan')\n",
    "plt.legend()\n",
    "print(\"Esta gráfica a simple vista nos indica que tenemos 10 diferentes tipos de mercado, siendo el 3ro el que más se repidte con más de .35.\")"
   ]
  },
  {
   "cell_type": "code",
   "execution_count": 24,
   "metadata": {},
   "outputs": [
    {
     "data": {
      "text/plain": [
       "MarketSize\n",
       "Large     168\n",
       "Medium    320\n",
       "Small      60\n",
       "Name: Promotion, dtype: int64"
      ]
     },
     "execution_count": 24,
     "metadata": {},
     "output_type": "execute_result"
    }
   ],
   "source": [
    "#Primer groupby\n",
    "df.groupby('MarketSize').count()['Promotion']\n",
    "print(\"Tenemos 3 tipos de mercado en nuestra muestra, la gran mayoría son mercados de tamaño mediano\")"
   ]
  },
  {
   "cell_type": "code",
   "execution_count": 27,
   "metadata": {},
   "outputs": [
    {
     "name": "stdout",
     "output_type": "stream",
     "text": [
      "Son tantos valores de ventas diferentes que no se pueden agrupar. No hay realmente montos repetitivos que puedan mostrar un patron\n"
     ]
    }
   ],
   "source": [
    "#Segundo groupby\n",
    "df.groupby('SalesInThousands').count()['Promotion']\n",
    "print(\"Son tantos valores de ventas diferentes que no se pueden agrupar. No hay realmente montos repetitivos que puedan mostrar un patron\")"
   ]
  },
  {
   "cell_type": "code",
   "execution_count": 28,
   "metadata": {},
   "outputs": [
    {
     "data": {
      "text/html": [
       "<div>\n",
       "<style scoped>\n",
       "    .dataframe tbody tr th:only-of-type {\n",
       "        vertical-align: middle;\n",
       "    }\n",
       "\n",
       "    .dataframe tbody tr th {\n",
       "        vertical-align: top;\n",
       "    }\n",
       "\n",
       "    .dataframe thead th {\n",
       "        text-align: right;\n",
       "    }\n",
       "</style>\n",
       "<table border=\"1\" class=\"dataframe\">\n",
       "  <thead>\n",
       "    <tr style=\"text-align: right;\">\n",
       "      <th></th>\n",
       "      <th>Unnamed: 0</th>\n",
       "      <th>MarketID</th>\n",
       "      <th>MarketSize</th>\n",
       "      <th>LocationID</th>\n",
       "      <th>AgeOfStore</th>\n",
       "      <th>Promotion</th>\n",
       "      <th>week</th>\n",
       "      <th>SalesInThousands</th>\n",
       "    </tr>\n",
       "  </thead>\n",
       "  <tbody>\n",
       "    <tr>\n",
       "      <th>count</th>\n",
       "      <td>548.000000</td>\n",
       "      <td>548.000000</td>\n",
       "      <td>548</td>\n",
       "      <td>548.000000</td>\n",
       "      <td>548.000000</td>\n",
       "      <td>548.000000</td>\n",
       "      <td>548.000000</td>\n",
       "      <td>548.000000</td>\n",
       "    </tr>\n",
       "    <tr>\n",
       "      <th>unique</th>\n",
       "      <td>NaN</td>\n",
       "      <td>NaN</td>\n",
       "      <td>3</td>\n",
       "      <td>NaN</td>\n",
       "      <td>NaN</td>\n",
       "      <td>NaN</td>\n",
       "      <td>NaN</td>\n",
       "      <td>NaN</td>\n",
       "    </tr>\n",
       "    <tr>\n",
       "      <th>top</th>\n",
       "      <td>NaN</td>\n",
       "      <td>NaN</td>\n",
       "      <td>Medium</td>\n",
       "      <td>NaN</td>\n",
       "      <td>NaN</td>\n",
       "      <td>NaN</td>\n",
       "      <td>NaN</td>\n",
       "      <td>NaN</td>\n",
       "    </tr>\n",
       "    <tr>\n",
       "      <th>freq</th>\n",
       "      <td>NaN</td>\n",
       "      <td>NaN</td>\n",
       "      <td>320</td>\n",
       "      <td>NaN</td>\n",
       "      <td>NaN</td>\n",
       "      <td>NaN</td>\n",
       "      <td>NaN</td>\n",
       "      <td>NaN</td>\n",
       "    </tr>\n",
       "    <tr>\n",
       "      <th>mean</th>\n",
       "      <td>273.500000</td>\n",
       "      <td>5.715328</td>\n",
       "      <td>NaN</td>\n",
       "      <td>479.656934</td>\n",
       "      <td>8.503650</td>\n",
       "      <td>2.029197</td>\n",
       "      <td>2.500000</td>\n",
       "      <td>53.466204</td>\n",
       "    </tr>\n",
       "    <tr>\n",
       "      <th>std</th>\n",
       "      <td>158.338246</td>\n",
       "      <td>2.877001</td>\n",
       "      <td>NaN</td>\n",
       "      <td>287.973679</td>\n",
       "      <td>6.638345</td>\n",
       "      <td>0.810729</td>\n",
       "      <td>1.119055</td>\n",
       "      <td>16.755216</td>\n",
       "    </tr>\n",
       "    <tr>\n",
       "      <th>min</th>\n",
       "      <td>0.000000</td>\n",
       "      <td>1.000000</td>\n",
       "      <td>NaN</td>\n",
       "      <td>1.000000</td>\n",
       "      <td>1.000000</td>\n",
       "      <td>1.000000</td>\n",
       "      <td>1.000000</td>\n",
       "      <td>17.340000</td>\n",
       "    </tr>\n",
       "    <tr>\n",
       "      <th>25%</th>\n",
       "      <td>136.750000</td>\n",
       "      <td>3.000000</td>\n",
       "      <td>NaN</td>\n",
       "      <td>216.000000</td>\n",
       "      <td>4.000000</td>\n",
       "      <td>1.000000</td>\n",
       "      <td>1.750000</td>\n",
       "      <td>42.545000</td>\n",
       "    </tr>\n",
       "    <tr>\n",
       "      <th>50%</th>\n",
       "      <td>273.500000</td>\n",
       "      <td>6.000000</td>\n",
       "      <td>NaN</td>\n",
       "      <td>504.000000</td>\n",
       "      <td>7.000000</td>\n",
       "      <td>2.000000</td>\n",
       "      <td>2.500000</td>\n",
       "      <td>50.200000</td>\n",
       "    </tr>\n",
       "    <tr>\n",
       "      <th>75%</th>\n",
       "      <td>410.250000</td>\n",
       "      <td>8.000000</td>\n",
       "      <td>NaN</td>\n",
       "      <td>708.000000</td>\n",
       "      <td>12.000000</td>\n",
       "      <td>3.000000</td>\n",
       "      <td>3.250000</td>\n",
       "      <td>60.477500</td>\n",
       "    </tr>\n",
       "    <tr>\n",
       "      <th>max</th>\n",
       "      <td>547.000000</td>\n",
       "      <td>10.000000</td>\n",
       "      <td>NaN</td>\n",
       "      <td>920.000000</td>\n",
       "      <td>28.000000</td>\n",
       "      <td>3.000000</td>\n",
       "      <td>4.000000</td>\n",
       "      <td>99.650000</td>\n",
       "    </tr>\n",
       "  </tbody>\n",
       "</table>\n",
       "</div>"
      ],
      "text/plain": [
       "        Unnamed: 0    MarketID MarketSize  LocationID  AgeOfStore   Promotion  \\\n",
       "count   548.000000  548.000000        548  548.000000  548.000000  548.000000   \n",
       "unique         NaN         NaN          3         NaN         NaN         NaN   \n",
       "top            NaN         NaN     Medium         NaN         NaN         NaN   \n",
       "freq           NaN         NaN        320         NaN         NaN         NaN   \n",
       "mean    273.500000    5.715328        NaN  479.656934    8.503650    2.029197   \n",
       "std     158.338246    2.877001        NaN  287.973679    6.638345    0.810729   \n",
       "min       0.000000    1.000000        NaN    1.000000    1.000000    1.000000   \n",
       "25%     136.750000    3.000000        NaN  216.000000    4.000000    1.000000   \n",
       "50%     273.500000    6.000000        NaN  504.000000    7.000000    2.000000   \n",
       "75%     410.250000    8.000000        NaN  708.000000   12.000000    3.000000   \n",
       "max     547.000000   10.000000        NaN  920.000000   28.000000    3.000000   \n",
       "\n",
       "              week  SalesInThousands  \n",
       "count   548.000000        548.000000  \n",
       "unique         NaN               NaN  \n",
       "top            NaN               NaN  \n",
       "freq           NaN               NaN  \n",
       "mean      2.500000         53.466204  \n",
       "std       1.119055         16.755216  \n",
       "min       1.000000         17.340000  \n",
       "25%       1.750000         42.545000  \n",
       "50%       2.500000         50.200000  \n",
       "75%       3.250000         60.477500  \n",
       "max       4.000000         99.650000  "
      ]
     },
     "execution_count": 28,
     "metadata": {},
     "output_type": "execute_result"
    }
   ],
   "source": [
    "df.describe(include='all')"
   ]
  },
  {
   "cell_type": "code",
   "execution_count": 37,
   "metadata": {},
   "outputs": [
    {
     "name": "stdout",
     "output_type": "stream",
     "text": [
      "Media Semana 1: 53.790583941605846\n",
      "Media Semana 2: 53.38656934306573\n",
      "Media Semana 3: 53.47459854014601\n",
      "Media Semana 4: 53.213065693430664\n",
      "\n",
      "Aún y cuando los números son relativamente cercanos, las medias me indican que las ventas con el transcurso de las semanas están tendiendo a la baja y esto es un foco rojo a analizar. Podríamos analizar las promociones por semana y ver si estas han tenido algún efecto sobre el decremento de las ventas.\n"
     ]
    }
   ],
   "source": [
    "#Medias de ventas para cada semana dentro de la muestra\n",
    "media1 = df.loc[df['week'] == 1, 'SalesInThousands'].mean()\n",
    "media2 = df.loc[df['week'] == 2, 'SalesInThousands'].mean()\n",
    "media3 = df.loc[df['week'] == 3, 'SalesInThousands'].mean()\n",
    "media4 = df.loc[df['week'] == 4, 'SalesInThousands'].mean()\n",
    "print(\"Media Semana 1:\", media1)\n",
    "print(\"Media Semana 2:\", media2)\n",
    "print(\"Media Semana 3:\", media3)\n",
    "print(\"Media Semana 4:\", media4)\n",
    "print()\n",
    "print(\"Aún y cuando los números son relativamente cercanos, las medias me indican que las ventas con el transcurso de las semanas están tendiendo a la baja y esto es un foco rojo a analizar. Podríamos analizar las promociones por semana y ver si estas han tenido algún efecto sobre el decremento de las ventas.\")"
   ]
  },
  {
   "cell_type": "code",
   "execution_count": 39,
   "metadata": {},
   "outputs": [
    {
     "name": "stdout",
     "output_type": "stream",
     "text": [
      "Media Promoción 1: 58.099011627907046\n",
      "Media Promoción 2: 47.329414893617084\n",
      "Media Promoción 3: 55.36446808510637\n",
      "\n",
      "La media de mis ventas por promoción me indican que dentro de la muestra, cuando la promoción 1 está vigente es cuando las ventas son las mayores. Esto podría ser un indicador de que la promoción 1 es la que mejor está funcionando para incrementar el valor de ticket.\n"
     ]
    }
   ],
   "source": [
    "#Medias de ventas para cada promoción dentro de la muestra\n",
    "media1 = df.loc[df['Promotion'] == 1, 'SalesInThousands'].mean()\n",
    "media2 = df.loc[df['Promotion'] == 2, 'SalesInThousands'].mean()\n",
    "media3 = df.loc[df['Promotion'] == 3, 'SalesInThousands'].mean()\n",
    "print(\"Media Promoción 1:\", media1)\n",
    "print(\"Media Promoción 2:\", media2)\n",
    "print(\"Media Promoción 3:\", media3)\n",
    "print()\n",
    "print(\"La media de mis ventas por promoción me indican que dentro de la muestra, cuando la promoción 1 está vigente es cuando las ventas son las mayores. Esto podría ser un indicador de que la promoción 1 es la que mejor está funcionando para incrementar el valor de ticket.\")"
   ]
  },
  {
   "cell_type": "code",
   "execution_count": 40,
   "metadata": {},
   "outputs": [
    {
     "name": "stdout",
     "output_type": "stream",
     "text": [
      "t-value = 6.453671702181005\n",
      "p-value = 3.5506696512134566e-10\n"
     ]
    }
   ],
   "source": [
    "#Comparación de las promociones 1 y 2\n",
    "t, p = st.ttest_ind(df.loc[df['Promotion'] == 1, 'SalesInThousands'].values,\n",
    "                       df.loc[df['Promotion'] == 2, 'SalesInThousands'].values, \n",
    "                       equal_var=True)\n",
    "print(\"t-value = \" +str(t))\n",
    "print(\"p-value = \" +str(p))\n",
    "print(\"La hipótesis nula se rechaza, dado que el valor de p es mucho más bajo que .05 y el valor de t es mucho mayor a 3.\")"
   ]
  },
  {
   "cell_type": "code",
   "execution_count": 42,
   "metadata": {},
   "outputs": [
    {
     "name": "stdout",
     "output_type": "stream",
     "text": [
      "t-value = 1.5551383687293547\n",
      "p-value = 0.12079667272313273\n",
      "La hipótesis nula se rechaza, dado que aún cuando el valor de t es menor a 3, p es mayor al .05 permitido para tener un 95% de confianza en la prueba.\n"
     ]
    }
   ],
   "source": [
    "#Comparación de las promociones 1 y 3\n",
    "t, p = st.ttest_ind(df.loc[df['Promotion'] == 1, 'SalesInThousands'].values,\n",
    "                       df.loc[df['Promotion'] == 3, 'SalesInThousands'].values, \n",
    "                       equal_var=True)\n",
    "print(\"t-value = \" +str(t))\n",
    "print(\"p-value = \" +str(p))\n",
    "print(\"La hipótesis nula NO se rechaza, esto debido a que el valor de t es menor a 3 y p es mayor al .05 permitido para tener un 95% de confianza en la prueba.\")"
   ]
  },
  {
   "cell_type": "code",
   "execution_count": 43,
   "metadata": {},
   "outputs": [
    {
     "name": "stdout",
     "output_type": "stream",
     "text": [
      "t-value = -4.88139271089348\n",
      "p-value = 1.562894303627738e-06\n",
      "La hipótesis nula se rechaza, dado que el valor de p es mucho más bajo que .05 y el valor de t es mucho mayor a 3.\n"
     ]
    }
   ],
   "source": [
    "#Comparación de las promociones 2 y 3\n",
    "t, p = st.ttest_ind(df.loc[df['Promotion'] == 2, 'SalesInThousands'].values,\n",
    "                       df.loc[df['Promotion'] == 3, 'SalesInThousands'].values, \n",
    "                       equal_var=True)\n",
    "print(\"t-value = \" +str(t))\n",
    "print(\"p-value = \" +str(p))\n",
    "print(\"La hipótesis nula se rechaza, dado que el valor de p es mucho más bajo que .05 y el valor absoluto de t es mucho mayor a 3.\")"
   ]
  },
  {
   "cell_type": "code",
   "execution_count": 44,
   "metadata": {},
   "outputs": [
    {
     "name": "stdout",
     "output_type": "stream",
     "text": [
      "El resultado de estas pruebas de hipótesis me indican que las mejores promociones para extender a las demás tiendas son la 1 y la 3.\n"
     ]
    }
   ],
   "source": [
    "print(\"El resultado de estas pruebas de hipótesis me indican que las mejores promociones para extender a las demás tiendas son la 1 y la 3.\")"
   ]
  },
  {
   "cell_type": "code",
   "execution_count": 46,
   "metadata": {},
   "outputs": [
    {
     "name": "stdout",
     "output_type": "stream",
     "text": [
      "Claro que sí. Aún y cuando los análisis realizados son básicos y las gráficas son sencillas e incluso feas, usando un software open source pudimos descubrir insights de mi información que de otra maneras no hubiera sido tan sencillo o hubiera sido prácticamente imposible de analizar utilizando Excel. Ahora solo imaginemos lo que pudiéramos hacer si esta información la explotáramos en una herramienta de analítica visual como Tableau.\n"
     ]
    }
   ],
   "source": [
    "#¿Te atreverías a presentar este reporte a tu jefe?\n",
    "print(\"Claro que sí. Aún y cuando los análisis realizados son básicos y las gráficas son sencillas e incluso feas, usando un software open source pudimos descubrir insights de mi información que de otra maneras no hubiera sido tan sencillo o hubiera sido prácticamente imposible de analizar utilizando Excel. Ahora solo imaginemos lo que pudiéramos hacer si esta información la explotáramos en una herramienta de analítica visual como Tableau.\")"
   ]
  },
  {
   "cell_type": "code",
   "execution_count": null,
   "metadata": {},
   "outputs": [],
   "source": []
  }
 ],
 "metadata": {
  "kernelspec": {
   "display_name": "Python 3",
   "language": "python",
   "name": "python3"
  },
  "language_info": {
   "codemirror_mode": {
    "name": "ipython",
    "version": 3
   },
   "file_extension": ".py",
   "mimetype": "text/x-python",
   "name": "python",
   "nbconvert_exporter": "python",
   "pygments_lexer": "ipython3",
   "version": "3.7.6"
  }
 },
 "nbformat": 4,
 "nbformat_minor": 4
}
